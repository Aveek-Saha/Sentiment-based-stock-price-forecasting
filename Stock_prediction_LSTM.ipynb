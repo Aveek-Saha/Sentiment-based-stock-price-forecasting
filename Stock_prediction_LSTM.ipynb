{
 "cells": [
  {
   "cell_type": "code",
   "execution_count": 41,
   "metadata": {},
   "outputs": [],
   "source": [
    "import csv\n",
    "import pandas as pd\n",
    "import numpy as np\n",
    "import matplotlib.pyplot as plt"
   ]
  },
  {
   "cell_type": "code",
   "execution_count": 42,
   "metadata": {},
   "outputs": [],
   "source": [
    "num_epochs = 100\n",
    "split = 0.5"
   ]
  },
  {
   "cell_type": "markdown",
   "metadata": {},
   "source": [
    "# Baseline"
   ]
  },
  {
   "cell_type": "code",
   "execution_count": 43,
   "metadata": {},
   "outputs": [],
   "source": [
    "df = pd.read_csv('AAPL.csv')"
   ]
  },
  {
   "cell_type": "code",
   "execution_count": 44,
   "metadata": {},
   "outputs": [
    {
     "data": {
      "text/html": [
       "<div>\n",
       "<style scoped>\n",
       "    .dataframe tbody tr th:only-of-type {\n",
       "        vertical-align: middle;\n",
       "    }\n",
       "\n",
       "    .dataframe tbody tr th {\n",
       "        vertical-align: top;\n",
       "    }\n",
       "\n",
       "    .dataframe thead th {\n",
       "        text-align: right;\n",
       "    }\n",
       "</style>\n",
       "<table border=\"1\" class=\"dataframe\">\n",
       "  <thead>\n",
       "    <tr style=\"text-align: right;\">\n",
       "      <th></th>\n",
       "      <th>Date</th>\n",
       "      <th>Open</th>\n",
       "      <th>High</th>\n",
       "      <th>Low</th>\n",
       "      <th>Close</th>\n",
       "      <th>Adj Close</th>\n",
       "      <th>Volume</th>\n",
       "    </tr>\n",
       "  </thead>\n",
       "  <tbody>\n",
       "    <tr>\n",
       "      <th>0</th>\n",
       "      <td>2008-02-01</td>\n",
       "      <td>19.462856</td>\n",
       "      <td>19.512857</td>\n",
       "      <td>18.882856</td>\n",
       "      <td>19.107143</td>\n",
       "      <td>12.740701</td>\n",
       "      <td>252686000</td>\n",
       "    </tr>\n",
       "    <tr>\n",
       "      <th>1</th>\n",
       "      <td>2008-02-04</td>\n",
       "      <td>19.172857</td>\n",
       "      <td>19.414286</td>\n",
       "      <td>18.774286</td>\n",
       "      <td>18.807142</td>\n",
       "      <td>12.540661</td>\n",
       "      <td>224808500</td>\n",
       "    </tr>\n",
       "    <tr>\n",
       "      <th>2</th>\n",
       "      <td>2008-02-05</td>\n",
       "      <td>18.632856</td>\n",
       "      <td>19.142857</td>\n",
       "      <td>18.414286</td>\n",
       "      <td>18.480000</td>\n",
       "      <td>12.322518</td>\n",
       "      <td>285260500</td>\n",
       "    </tr>\n",
       "    <tr>\n",
       "      <th>3</th>\n",
       "      <td>2008-02-06</td>\n",
       "      <td>18.690001</td>\n",
       "      <td>18.845715</td>\n",
       "      <td>17.395714</td>\n",
       "      <td>17.428572</td>\n",
       "      <td>11.621424</td>\n",
       "      <td>393318100</td>\n",
       "    </tr>\n",
       "    <tr>\n",
       "      <th>4</th>\n",
       "      <td>2008-02-07</td>\n",
       "      <td>17.138571</td>\n",
       "      <td>17.825714</td>\n",
       "      <td>16.752857</td>\n",
       "      <td>17.320000</td>\n",
       "      <td>11.549030</td>\n",
       "      <td>520832900</td>\n",
       "    </tr>\n",
       "  </tbody>\n",
       "</table>\n",
       "</div>"
      ],
      "text/plain": [
       "         Date       Open       High        Low      Close  Adj Close  \\\n",
       "0  2008-02-01  19.462856  19.512857  18.882856  19.107143  12.740701   \n",
       "1  2008-02-04  19.172857  19.414286  18.774286  18.807142  12.540661   \n",
       "2  2008-02-05  18.632856  19.142857  18.414286  18.480000  12.322518   \n",
       "3  2008-02-06  18.690001  18.845715  17.395714  17.428572  11.621424   \n",
       "4  2008-02-07  17.138571  17.825714  16.752857  17.320000  11.549030   \n",
       "\n",
       "      Volume  \n",
       "0  252686000  \n",
       "1  224808500  \n",
       "2  285260500  \n",
       "3  393318100  \n",
       "4  520832900  "
      ]
     },
     "execution_count": 44,
     "metadata": {},
     "output_type": "execute_result"
    }
   ],
   "source": [
    "df.head()"
   ]
  },
  {
   "cell_type": "markdown",
   "metadata": {},
   "source": [
    "## We are only going to consider the opening price"
   ]
  },
  {
   "cell_type": "code",
   "execution_count": 45,
   "metadata": {},
   "outputs": [
    {
     "data": {
      "text/html": [
       "<div>\n",
       "<style scoped>\n",
       "    .dataframe tbody tr th:only-of-type {\n",
       "        vertical-align: middle;\n",
       "    }\n",
       "\n",
       "    .dataframe tbody tr th {\n",
       "        vertical-align: top;\n",
       "    }\n",
       "\n",
       "    .dataframe thead th {\n",
       "        text-align: right;\n",
       "    }\n",
       "</style>\n",
       "<table border=\"1\" class=\"dataframe\">\n",
       "  <thead>\n",
       "    <tr style=\"text-align: right;\">\n",
       "      <th></th>\n",
       "      <th>Date</th>\n",
       "      <th>Open</th>\n",
       "    </tr>\n",
       "  </thead>\n",
       "  <tbody>\n",
       "    <tr>\n",
       "      <th>0</th>\n",
       "      <td>2008-02-01</td>\n",
       "      <td>19.462856</td>\n",
       "    </tr>\n",
       "    <tr>\n",
       "      <th>1</th>\n",
       "      <td>2008-02-04</td>\n",
       "      <td>19.172857</td>\n",
       "    </tr>\n",
       "    <tr>\n",
       "      <th>2</th>\n",
       "      <td>2008-02-05</td>\n",
       "      <td>18.632856</td>\n",
       "    </tr>\n",
       "    <tr>\n",
       "      <th>3</th>\n",
       "      <td>2008-02-06</td>\n",
       "      <td>18.690001</td>\n",
       "    </tr>\n",
       "    <tr>\n",
       "      <th>4</th>\n",
       "      <td>2008-02-07</td>\n",
       "      <td>17.138571</td>\n",
       "    </tr>\n",
       "  </tbody>\n",
       "</table>\n",
       "</div>"
      ],
      "text/plain": [
       "         Date       Open\n",
       "0  2008-02-01  19.462856\n",
       "1  2008-02-04  19.172857\n",
       "2  2008-02-05  18.632856\n",
       "3  2008-02-06  18.690001\n",
       "4  2008-02-07  17.138571"
      ]
     },
     "execution_count": 45,
     "metadata": {},
     "output_type": "execute_result"
    }
   ],
   "source": [
    "df = df.drop(df.columns[2:],axis=1)\n",
    "df.head()"
   ]
  },
  {
   "cell_type": "code",
   "execution_count": 46,
   "metadata": {},
   "outputs": [
    {
     "data": {
      "text/plain": [
       "<matplotlib.axes._subplots.AxesSubplot at 0x7fca19e18dd8>"
      ]
     },
     "execution_count": 46,
     "metadata": {},
     "output_type": "execute_result"
    },
    {
     "data": {
      "image/png": "[encoded data removed]",
      "text/plain": [
       "<matplotlib.figure.Figure at 0x7fca945db390>"
      ]
     },
     "metadata": {},
     "output_type": "display_data"
    }
   ],
   "source": [
    "df['Open'].plot(figsize=(12,6))"
   ]
  },
  {
   "cell_type": "code",
   "execution_count": 47,
   "metadata": {},
   "outputs": [],
   "source": [
    "training = split\n",
    "total = df.shape[0]\n",
    "train_index = int(total*training)\n",
    "\n",
    "training_set = df[:train_index]"
   ]
  },
  {
   "cell_type": "markdown",
   "metadata": {},
   "source": [
    "## Feature scaling"
   ]
  },
  {
   "cell_type": "code",
   "execution_count": 48,
   "metadata": {},
   "outputs": [],
   "source": [
    "from sklearn.preprocessing import MinMaxScaler\n",
    "sc = MinMaxScaler(feature_range = (0, 1))\n",
    "training_set_scaled = sc.fit_transform(pd.DataFrame(training_set['Open']))"
   ]
  },
  {
   "cell_type": "markdown",
   "metadata": {},
   "source": [
    "## Take time step to be 60 days"
   ]
  },
  {
   "cell_type": "code",
   "execution_count": 49,
   "metadata": {},
   "outputs": [],
   "source": [
    "X_train = []\n",
    "y_train = []\n",
    "for i in range(60, train_index):\n",
    "    X_train.append(training_set_scaled[i-60:i, 0])\n",
    "    y_train.append(training_set_scaled[i, 0])\n",
    "X_train, y_train = np.array(X_train), np.array(y_train)\n",
    "\n",
    "# Reshaping\n",
    "X_train = np.reshape(X_train, (X_train.shape[0], X_train.shape[1], 1))"
   ]
  },
  {
   "cell_type": "code",
   "execution_count": 50,
   "metadata": {},
   "outputs": [],
   "source": [
    "from keras.models import Sequential\n",
    "from keras.layers import Dense\n",
    "from keras.layers import LSTM\n",
    "from keras.layers import Dropout"
   ]
  },
  {
   "cell_type": "code",
   "execution_count": 51,
   "metadata": {},
   "outputs": [],
   "source": [
    "model = Sequential()\n",
    "\n",
    "model.add(LSTM(units = 50, return_sequences = True, input_shape = (X_train.shape[1], 1)))\n",
    "model.add(Dropout(0.2))\n",
    "\n",
    "model.add(LSTM(units = 50, return_sequences = True))\n",
    "model.add(Dropout(0.2))\n",
    "\n",
    "model.add(LSTM(units = 50, return_sequences = True))\n",
    "model.add(Dropout(0.2))\n",
    "\n",
    "model.add(LSTM(units = 50))\n",
    "model.add(Dropout(0.2))\n",
    "\n",
    "model.add(Dense(units = 1))\n",
    "\n",
    "model.compile(optimizer = 'adam', loss = 'mean_squared_error')"
   ]
  },
  {
   "cell_type": "code",
   "execution_count": 52,
   "metadata": {},
   "outputs": [
    {
     "name": "stdout",
     "output_type": "stream",
     "text": [
      "Epoch 1/100\n",
      "1325/1325 [==============================] - 10s 8ms/step - loss: 0.0320\n",
      "Epoch 2/100\n",
      "1325/1325 [==============================] - 5s 4ms/step - loss: 0.0042\n",
      "Epoch 3/100\n",
      "1325/1325 [==============================] - 5s 4ms/step - loss: 0.0037\n",
      "Epoch 4/100\n",
      "1325/1325 [==============================] - 5s 4ms/step - loss: 0.0033\n",
      "Epoch 5/100\n",
      "1325/1325 [==============================] - 5s 4ms/step - loss: 0.0031\n",
      "Epoch 6/100\n",
      "1325/1325 [==============================] - 5s 4ms/step - loss: 0.0031\n",
      "Epoch 7/100\n",
      "1325/1325 [==============================] - 6s 4ms/step - loss: 0.0030\n",
      "Epoch 8/100\n",
      "1325/1325 [==============================] - 5s 4ms/step - loss: 0.0027\n",
      "Epoch 9/100\n",
      "1325/1325 [==============================] - 5s 4ms/step - loss: 0.0029\n",
      "Epoch 10/100\n",
      "1325/1325 [==============================] - 5s 4ms/step - loss: 0.0027\n",
      "Epoch 11/100\n",
      "1325/1325 [==============================] - 5s 4ms/step - loss: 0.0025\n",
      "Epoch 12/100\n",
      "1325/1325 [==============================] - 5s 4ms/step - loss: 0.0026\n",
      "Epoch 13/100\n",
      "1325/1325 [==============================] - 5s 4ms/step - loss: 0.0029\n",
      "Epoch 14/100\n",
      "1325/1325 [==============================] - 5s 4ms/step - loss: 0.0025\n",
      "Epoch 15/100\n",
      "1325/1325 [==============================] - 5s 4ms/step - loss: 0.0024\n",
      "Epoch 16/100\n",
      "1325/1325 [==============================] - 5s 4ms/step - loss: 0.0030\n",
      "Epoch 17/100\n",
      "1325/1325 [==============================] - 5s 4ms/step - loss: 0.0023\n",
      "Epoch 18/100\n",
      "1325/1325 [==============================] - 5s 4ms/step - loss: 0.0027\n",
      "Epoch 19/100\n",
      "1325/1325 [==============================] - 5s 4ms/step - loss: 0.0024\n",
      "Epoch 20/100\n",
      "1325/1325 [==============================] - 5s 4ms/step - loss: 0.0024\n",
      "Epoch 21/100\n",
      "1325/1325 [==============================] - 5s 4ms/step - loss: 0.0022\n",
      "Epoch 22/100\n",
      "1325/1325 [==============================] - 5s 4ms/step - loss: 0.0019\n",
      "Epoch 23/100\n",
      "1325/1325 [==============================] - 5s 4ms/step - loss: 0.0022\n",
      "Epoch 24/100\n",
      "1325/1325 [==============================] - 5s 4ms/step - loss: 0.0021\n",
      "Epoch 25/100\n",
      "1325/1325 [==============================] - 5s 4ms/step - loss: 0.0019\n",
      "Epoch 26/100\n",
      "1325/1325 [==============================] - 5s 4ms/step - loss: 0.0020\n",
      "Epoch 27/100\n",
      "1325/1325 [==============================] - 5s 4ms/step - loss: 0.0021\n",
      "Epoch 28/100\n",
      "1325/1325 [==============================] - 5s 4ms/step - loss: 0.0026\n",
      "Epoch 29/100\n",
      "1325/1325 [==============================] - 5s 4ms/step - loss: 0.0019\n",
      "Epoch 30/100\n",
      "1325/1325 [==============================] - 5s 4ms/step - loss: 0.0019\n",
      "Epoch 31/100\n",
      "1325/1325 [==============================] - 5s 4ms/step - loss: 0.0019\n",
      "Epoch 32/100\n",
      "1325/1325 [==============================] - 5s 4ms/step - loss: 0.0018\n",
      "Epoch 33/100\n",
      "1325/1325 [==============================] - 5s 4ms/step - loss: 0.0017\n",
      "Epoch 34/100\n",
      "1325/1325 [==============================] - 5s 4ms/step - loss: 0.0018\n",
      "Epoch 35/100\n",
      "1325/1325 [==============================] - 5s 4ms/step - loss: 0.0020\n",
      "Epoch 36/100\n",
      "1325/1325 [==============================] - 5s 4ms/step - loss: 0.0018\n",
      "Epoch 37/100\n",
      "1325/1325 [==============================] - 5s 4ms/step - loss: 0.0020\n",
      "Epoch 38/100\n",
      "1325/1325 [==============================] - 5s 4ms/step - loss: 0.0017\n",
      "Epoch 39/100\n",
      "1325/1325 [==============================] - 5s 4ms/step - loss: 0.0017\n",
      "Epoch 40/100\n",
      "1325/1325 [==============================] - 5s 4ms/step - loss: 0.0017\n",
      "Epoch 41/100\n",
      "1325/1325 [==============================] - 5s 4ms/step - loss: 0.0019\n",
      "Epoch 42/100\n",
      "1325/1325 [==============================] - 5s 4ms/step - loss: 0.0015\n",
      "Epoch 43/100\n",
      "1325/1325 [==============================] - 5s 4ms/step - loss: 0.0017\n",
      "Epoch 44/100\n",
      "1325/1325 [==============================] - 6s 4ms/step - loss: 0.0015\n",
      "Epoch 45/100\n",
      "1325/1325 [==============================] - 5s 4ms/step - loss: 0.0014\n",
      "Epoch 46/100\n",
      "1325/1325 [==============================] - 6s 4ms/step - loss: 0.0015\n",
      "Epoch 47/100\n",
      "1325/1325 [==============================] - 5s 4ms/step - loss: 0.0015\n",
      "Epoch 48/100\n",
      "1325/1325 [==============================] - 8s 6ms/step - loss: 0.0017\n",
      "Epoch 49/100\n",
      "1325/1325 [==============================] - 6s 5ms/step - loss: 0.0014\n",
      "Epoch 50/100\n",
      "1325/1325 [==============================] - 6s 5ms/step - loss: 0.0016\n",
      "Epoch 51/100\n",
      "1325/1325 [==============================] - 5s 4ms/step - loss: 0.0013\n",
      "Epoch 52/100\n",
      "1325/1325 [==============================] - 5s 4ms/step - loss: 0.0014\n",
      "Epoch 53/100\n",
      "1325/1325 [==============================] - 5s 4ms/step - loss: 0.0014\n",
      "Epoch 54/100\n",
      "1325/1325 [==============================] - 5s 4ms/step - loss: 0.0014\n",
      "Epoch 55/100\n",
      "1325/1325 [==============================] - 5s 4ms/step - loss: 0.0014\n",
      "Epoch 56/100\n",
      "1325/1325 [==============================] - 5s 4ms/step - loss: 0.0014\n",
      "Epoch 57/100\n",
      "1325/1325 [==============================] - 5s 4ms/step - loss: 0.0014\n",
      "Epoch 58/100\n",
      "1325/1325 [==============================] - 5s 4ms/step - loss: 0.0012\n",
      "Epoch 59/100\n",
      "1325/1325 [==============================] - 5s 4ms/step - loss: 0.0013\n",
      "Epoch 60/100\n",
      "1325/1325 [==============================] - 5s 4ms/step - loss: 0.0017\n",
      "Epoch 61/100\n",
      "1325/1325 [==============================] - 5s 4ms/step - loss: 0.0014\n",
      "Epoch 62/100\n",
      "1325/1325 [==============================] - 5s 4ms/step - loss: 0.0013\n",
      "Epoch 63/100\n",
      "1325/1325 [==============================] - 5s 4ms/step - loss: 0.0016\n",
      "Epoch 64/100\n",
      "1325/1325 [==============================] - 5s 4ms/step - loss: 0.0014\n",
      "Epoch 65/100\n",
      "1325/1325 [==============================] - 5s 4ms/step - loss: 0.0015\n",
      "Epoch 66/100\n",
      "1325/1325 [==============================] - 5s 4ms/step - loss: 0.0013\n",
      "Epoch 67/100\n",
      "1325/1325 [==============================] - 5s 4ms/step - loss: 0.0012\n",
      "Epoch 68/100\n",
      "1325/1325 [==============================] - 5s 4ms/step - loss: 0.0012\n",
      "Epoch 69/100\n",
      "1325/1325 [==============================] - 5s 4ms/step - loss: 0.0012\n",
      "Epoch 70/100\n",
      "1325/1325 [==============================] - 5s 4ms/step - loss: 0.0014\n",
      "Epoch 71/100\n",
      "1325/1325 [==============================] - 5s 4ms/step - loss: 0.0011\n",
      "Epoch 72/100\n",
      "1325/1325 [==============================] - 5s 4ms/step - loss: 0.0013\n",
      "Epoch 73/100\n",
      "1325/1325 [==============================] - 5s 4ms/step - loss: 0.0011\n",
      "Epoch 74/100\n",
      "1325/1325 [==============================] - 5s 4ms/step - loss: 0.0011\n",
      "Epoch 75/100\n",
      "1325/1325 [==============================] - 5s 4ms/step - loss: 0.0014\n",
      "Epoch 76/100\n",
      "1325/1325 [==============================] - 7s 5ms/step - loss: 0.0013\n",
      "Epoch 77/100\n",
      "1325/1325 [==============================] - 5s 4ms/step - loss: 0.0013\n",
      "Epoch 78/100\n",
      "1325/1325 [==============================] - 5s 4ms/step - loss: 0.0013\n",
      "Epoch 79/100\n",
      "1325/1325 [==============================] - 5s 4ms/step - loss: 0.0012\n",
      "Epoch 80/100\n",
      "1325/1325 [==============================] - 5s 4ms/step - loss: 0.0013\n",
      "Epoch 81/100\n",
      "1325/1325 [==============================] - 5s 4ms/step - loss: 0.0010\n",
      "Epoch 82/100\n",
      "1325/1325 [==============================] - 5s 4ms/step - loss: 0.0012\n",
      "Epoch 83/100\n",
      "1325/1325 [==============================] - 5s 4ms/step - loss: 0.0011\n",
      "Epoch 84/100\n",
      "1325/1325 [==============================] - 5s 4ms/step - loss: 0.0012\n",
      "Epoch 85/100\n",
      "1325/1325 [==============================] - 5s 4ms/step - loss: 0.0013\n",
      "Epoch 86/100\n",
      "1325/1325 [==============================] - 5s 4ms/step - loss: 0.0013\n",
      "Epoch 87/100\n",
      "1325/1325 [==============================] - 5s 4ms/step - loss: 0.0012\n",
      "Epoch 88/100\n",
      "1325/1325 [==============================] - 5s 4ms/step - loss: 0.0013\n",
      "Epoch 89/100\n",
      "1325/1325 [==============================] - 5s 4ms/step - loss: 0.0011\n",
      "Epoch 90/100\n",
      "1325/1325 [==============================] - 5s 4ms/step - loss: 0.0011\n",
      "Epoch 91/100\n",
      "1325/1325 [==============================] - 5s 4ms/step - loss: 0.0010\n",
      "Epoch 92/100\n",
      "1325/1325 [==============================] - 5s 4ms/step - loss: 0.0011\n",
      "Epoch 93/100\n",
      "1325/1325 [==============================] - 5s 4ms/step - loss: 0.0010\n",
      "Epoch 94/100\n",
      "1325/1325 [==============================] - 5s 4ms/step - loss: 0.0011\n",
      "Epoch 95/100\n",
      "1325/1325 [==============================] - 5s 4ms/step - loss: 0.0012\n",
      "Epoch 96/100\n",
      "1325/1325 [==============================] - 5s 4ms/step - loss: 9.9937e-04\n",
      "Epoch 97/100\n"
     ]
    },
    {
     "name": "stdout",
     "output_type": "stream",
     "text": [
      "1325/1325 [==============================] - 5s 4ms/step - loss: 0.0012\n",
      "Epoch 98/100\n",
      "1325/1325 [==============================] - 5s 4ms/step - loss: 0.0011\n",
      "Epoch 99/100\n",
      "1325/1325 [==============================] - 5s 4ms/step - loss: 9.9173e-04\n",
      "Epoch 100/100\n",
      "1325/1325 [==============================] - 5s 4ms/step - loss: 0.0010\n"
     ]
    },
    {
     "data": {
      "text/plain": [
       "<keras.callbacks.History at 0x7fca19541400>"
      ]
     },
     "execution_count": 52,
     "metadata": {},
     "output_type": "execute_result"
    }
   ],
   "source": [
    "model.fit(X_train, y_train, epochs = num_epochs, batch_size = 32)"
   ]
  },
  {
   "cell_type": "code",
   "execution_count": 53,
   "metadata": {},
   "outputs": [
    {
     "data": {
      "text/html": [
       "<div>\n",
       "<style scoped>\n",
       "    .dataframe tbody tr th:only-of-type {\n",
       "        vertical-align: middle;\n",
       "    }\n",
       "\n",
       "    .dataframe tbody tr th {\n",
       "        vertical-align: top;\n",
       "    }\n",
       "\n",
       "    .dataframe thead th {\n",
       "        text-align: right;\n",
       "    }\n",
       "</style>\n",
       "<table border=\"1\" class=\"dataframe\">\n",
       "  <thead>\n",
       "    <tr style=\"text-align: right;\">\n",
       "      <th></th>\n",
       "      <th>Date</th>\n",
       "      <th>Open</th>\n",
       "    </tr>\n",
       "  </thead>\n",
       "  <tbody>\n",
       "    <tr>\n",
       "      <th>1385</th>\n",
       "      <td>2013-08-02</td>\n",
       "      <td>65.430000</td>\n",
       "    </tr>\n",
       "    <tr>\n",
       "      <th>1386</th>\n",
       "      <td>2013-08-05</td>\n",
       "      <td>66.384285</td>\n",
       "    </tr>\n",
       "    <tr>\n",
       "      <th>1387</th>\n",
       "      <td>2013-08-06</td>\n",
       "      <td>66.860001</td>\n",
       "    </tr>\n",
       "    <tr>\n",
       "      <th>1388</th>\n",
       "      <td>2013-08-07</td>\n",
       "      <td>66.257141</td>\n",
       "    </tr>\n",
       "    <tr>\n",
       "      <th>1389</th>\n",
       "      <td>2013-08-08</td>\n",
       "      <td>66.265717</td>\n",
       "    </tr>\n",
       "  </tbody>\n",
       "</table>\n",
       "</div>"
      ],
      "text/plain": [
       "            Date       Open\n",
       "1385  2013-08-02  65.430000\n",
       "1386  2013-08-05  66.384285\n",
       "1387  2013-08-06  66.860001\n",
       "1388  2013-08-07  66.257141\n",
       "1389  2013-08-08  66.265717"
      ]
     },
     "execution_count": 53,
     "metadata": {},
     "output_type": "execute_result"
    }
   ],
   "source": [
    "testing_set = df[train_index:]\n",
    "testing_set = pd.DataFrame(testing_set)\n",
    "testing_set.head()"
   ]
  },
  {
   "cell_type": "code",
   "execution_count": 54,
   "metadata": {},
   "outputs": [],
   "source": [
    "real_stock_price = pd.DataFrame(testing_set['Open']).reset_index(drop=True)"
   ]
  },
  {
   "cell_type": "code",
   "execution_count": 55,
   "metadata": {},
   "outputs": [],
   "source": [
    "test_set=testing_set['Open']\n",
    "test_set=pd.DataFrame(test_set)"
   ]
  },
  {
   "cell_type": "code",
   "execution_count": 56,
   "metadata": {},
   "outputs": [],
   "source": [
    "inputs = df['Open'][len(df) - len(testing_set) - 60:].values\n",
    "# print(inputs)\n",
    "inputs = inputs.reshape(-1,1)\n",
    "# print(inputs)\n",
    "inputs = sc.transform(inputs)\n",
    "# print(inputs)\n",
    "X_test = []\n",
    "for i in range(60, 60+(total-train_index)):\n",
    "    X_test.append(inputs[i-60:i, 0])\n",
    "X_test = np.array(X_test)\n",
    "X_test = np.reshape(X_test, (X_test.shape[0], X_test.shape[1], 1))\n",
    "predicted_stock_price = model.predict(X_test)\n",
    "predicted_stock_price = sc.inverse_transform(predicted_stock_price)"
   ]
  },
  {
   "cell_type": "code",
   "execution_count": null,
   "metadata": {},
   "outputs": [],
   "source": []
  },
  {
   "cell_type": "code",
   "execution_count": 57,
   "metadata": {},
   "outputs": [],
   "source": [
    "predicted_stock_price=pd.DataFrame(predicted_stock_price)\n",
    "predicted_stock_price_old = predicted_stock_price"
   ]
  },
  {
   "cell_type": "markdown",
   "metadata": {},
   "source": [
    "## Plotting predicted vs actual"
   ]
  },
  {
   "cell_type": "code",
   "execution_count": 58,
   "metadata": {},
   "outputs": [
    {
     "data": {
      "image/png": "[encoded data removed]",
      "text/plain": [
       "<matplotlib.figure.Figure at 0x7fca16c1e400>"
      ]
     },
     "metadata": {},
     "output_type": "display_data"
    }
   ],
   "source": [
    "plt.rcParams['figure.figsize'] = [12, 10]\n",
    "plt.plot(real_stock_price, color = 'red', label = 'Real Apple Stock Price')\n",
    "plt.plot(predicted_stock_price_old, color = 'green', label = 'Predicted Apple Stock Price')\n",
    "plt.title('Apple Stock Price Prediction')\n",
    "plt.xlabel('Time')\n",
    "plt.ylabel('Apple Stock Price')\n",
    "plt.legend()\n",
    "plt.show()"
   ]
  },
  {
   "cell_type": "code",
   "execution_count": null,
   "metadata": {},
   "outputs": [],
   "source": []
  },
  {
   "cell_type": "markdown",
   "metadata": {},
   "source": [
    "# Using sentiment from news articles and twitter"
   ]
  },
  {
   "cell_type": "code",
   "execution_count": 59,
   "metadata": {},
   "outputs": [],
   "source": [
    "import pickle\n",
    "from sklearn.feature_extraction.text import TfidfTransformer, TfidfVectorizer\n",
    "from sklearn.metrics import mean_squared_error"
   ]
  },
  {
   "cell_type": "markdown",
   "metadata": {},
   "source": [
    "## Get the cleaned datasets"
   ]
  },
  {
   "cell_type": "code",
   "execution_count": 60,
   "metadata": {},
   "outputs": [],
   "source": [
    "final_news = pd.read_csv('news_clean.csv')\n",
    "final_tweets = pd.read_csv('tweets_clean.csv')\n"
   ]
  },
  {
   "cell_type": "markdown",
   "metadata": {},
   "source": [
    "## Load the saved SVC and vectorizer"
   ]
  },
  {
   "cell_type": "code",
   "execution_count": 64,
   "metadata": {
    "scrolled": true
   },
   "outputs": [
    {
     "name": "stderr",
     "output_type": "stream",
     "text": [
      "/home/aveek/anaconda3/lib/python3.6/site-packages/sklearn/base.py:311: UserWarning: Trying to unpickle estimator LogisticRegression from version 0.20.3 when using version 0.19.1. This might lead to breaking code or invalid results. Use at your own risk.\n",
      "  UserWarning)\n"
     ]
    },
    {
     "data": {
      "text/plain": [
       "LogisticRegression(C=1.0, class_weight=None, dual=False, fit_intercept=True,\n",
       "          intercept_scaling=1, max_iter=100, multi_class='warn',\n",
       "          n_jobs=None, penalty='l2', random_state=None, solver='warn',\n",
       "          tol=0.0001, verbose=0, warm_start=False)"
      ]
     },
     "execution_count": 64,
     "metadata": {},
     "output_type": "execute_result"
    }
   ],
   "source": [
    "l_svc = pickle.load(open('linear_regression.sav', 'rb'))\n",
    "l_svc"
   ]
  },
  {
   "cell_type": "code",
   "execution_count": 65,
   "metadata": {},
   "outputs": [],
   "source": [
    "# vectorizer = pickle.load(open('tfidf.sav', 'rb'))\n",
    "# vectorizer"
   ]
  },
  {
   "cell_type": "markdown",
   "metadata": {},
   "source": [
    "## Predict sentiment"
   ]
  },
  {
   "cell_type": "markdown",
   "metadata": {},
   "source": [
    "### 1. Predict news articles sentiment"
   ]
  },
  {
   "cell_type": "code",
   "execution_count": 66,
   "metadata": {},
   "outputs": [],
   "source": [
    "pred = []\n",
    "\n",
    "for x in final_news['News']:\n",
    "    sample = x.split(\"|\")\n",
    "\n",
    "    test_sent = vectorizer.transform(sample)\n",
    "    prediction = l_svc.predict(test_sent)\n",
    "    \n",
    "    su = 0\n",
    "    for p in prediction:\n",
    "        su += int(p)\n",
    "\n",
    "#     pred.append(sum(prediction/len(sample)))\n",
    "    pred.append(su/len(sample))"
   ]
  },
  {
   "cell_type": "code",
   "execution_count": 67,
   "metadata": {},
   "outputs": [
    {
     "data": {
      "text/html": [
       "<div>\n",
       "<style scoped>\n",
       "    .dataframe tbody tr th:only-of-type {\n",
       "        vertical-align: middle;\n",
       "    }\n",
       "\n",
       "    .dataframe tbody tr th {\n",
       "        vertical-align: top;\n",
       "    }\n",
       "\n",
       "    .dataframe thead th {\n",
       "        text-align: right;\n",
       "    }\n",
       "</style>\n",
       "<table border=\"1\" class=\"dataframe\">\n",
       "  <thead>\n",
       "    <tr style=\"text-align: right;\">\n",
       "      <th></th>\n",
       "      <th>Date</th>\n",
       "      <th>Open</th>\n",
       "      <th>News</th>\n",
       "    </tr>\n",
       "  </thead>\n",
       "  <tbody>\n",
       "    <tr>\n",
       "      <th>0</th>\n",
       "      <td>2008-02-01</td>\n",
       "      <td>19.462856</td>\n",
       "      <td>1.00</td>\n",
       "    </tr>\n",
       "    <tr>\n",
       "      <th>1</th>\n",
       "      <td>2008-02-04</td>\n",
       "      <td>19.172857</td>\n",
       "      <td>0.00</td>\n",
       "    </tr>\n",
       "    <tr>\n",
       "      <th>2</th>\n",
       "      <td>2008-02-05</td>\n",
       "      <td>18.632856</td>\n",
       "      <td>1.00</td>\n",
       "    </tr>\n",
       "    <tr>\n",
       "      <th>3</th>\n",
       "      <td>2008-02-06</td>\n",
       "      <td>18.690001</td>\n",
       "      <td>1.00</td>\n",
       "    </tr>\n",
       "    <tr>\n",
       "      <th>4</th>\n",
       "      <td>2008-02-07</td>\n",
       "      <td>17.138571</td>\n",
       "      <td>0.25</td>\n",
       "    </tr>\n",
       "  </tbody>\n",
       "</table>\n",
       "</div>"
      ],
      "text/plain": [
       "         Date       Open  News\n",
       "0  2008-02-01  19.462856  1.00\n",
       "1  2008-02-04  19.172857  0.00\n",
       "2  2008-02-05  18.632856  1.00\n",
       "3  2008-02-06  18.690001  1.00\n",
       "4  2008-02-07  17.138571  0.25"
      ]
     },
     "execution_count": 67,
     "metadata": {},
     "output_type": "execute_result"
    }
   ],
   "source": [
    "df['News'] = pred\n",
    "df.head()"
   ]
  },
  {
   "cell_type": "markdown",
   "metadata": {},
   "source": [
    "### 2. Precict tweets sentiment"
   ]
  },
  {
   "cell_type": "code",
   "execution_count": 68,
   "metadata": {},
   "outputs": [],
   "source": [
    "pred = []\n",
    "\n",
    "for x in final_tweets['Tweets']:\n",
    "    sample = x.split(\"|\")\n",
    "\n",
    "    test_sent = vectorizer.transform(sample)\n",
    "    prediction = l_svc.predict(test_sent)\n",
    "\n",
    "    su = 0\n",
    "    for p in prediction:\n",
    "        su += int(p)\n",
    "\n",
    "#     pred.append(sum(prediction/len(sample)))\n",
    "    pred.append(su/len(sample))"
   ]
  },
  {
   "cell_type": "code",
   "execution_count": 69,
   "metadata": {},
   "outputs": [
    {
     "data": {
      "text/html": [
       "<div>\n",
       "<style scoped>\n",
       "    .dataframe tbody tr th:only-of-type {\n",
       "        vertical-align: middle;\n",
       "    }\n",
       "\n",
       "    .dataframe tbody tr th {\n",
       "        vertical-align: top;\n",
       "    }\n",
       "\n",
       "    .dataframe thead th {\n",
       "        text-align: right;\n",
       "    }\n",
       "</style>\n",
       "<table border=\"1\" class=\"dataframe\">\n",
       "  <thead>\n",
       "    <tr style=\"text-align: right;\">\n",
       "      <th></th>\n",
       "      <th>Date</th>\n",
       "      <th>Open</th>\n",
       "      <th>News</th>\n",
       "      <th>Tweets</th>\n",
       "    </tr>\n",
       "  </thead>\n",
       "  <tbody>\n",
       "    <tr>\n",
       "      <th>0</th>\n",
       "      <td>2008-02-01</td>\n",
       "      <td>19.462856</td>\n",
       "      <td>1.00</td>\n",
       "      <td>0.75</td>\n",
       "    </tr>\n",
       "    <tr>\n",
       "      <th>1</th>\n",
       "      <td>2008-02-04</td>\n",
       "      <td>19.172857</td>\n",
       "      <td>0.00</td>\n",
       "      <td>0.80</td>\n",
       "    </tr>\n",
       "    <tr>\n",
       "      <th>2</th>\n",
       "      <td>2008-02-05</td>\n",
       "      <td>18.632856</td>\n",
       "      <td>1.00</td>\n",
       "      <td>0.90</td>\n",
       "    </tr>\n",
       "    <tr>\n",
       "      <th>3</th>\n",
       "      <td>2008-02-06</td>\n",
       "      <td>18.690001</td>\n",
       "      <td>1.00</td>\n",
       "      <td>0.90</td>\n",
       "    </tr>\n",
       "    <tr>\n",
       "      <th>4</th>\n",
       "      <td>2008-02-07</td>\n",
       "      <td>17.138571</td>\n",
       "      <td>0.25</td>\n",
       "      <td>0.80</td>\n",
       "    </tr>\n",
       "  </tbody>\n",
       "</table>\n",
       "</div>"
      ],
      "text/plain": [
       "         Date       Open  News  Tweets\n",
       "0  2008-02-01  19.462856  1.00    0.75\n",
       "1  2008-02-04  19.172857  0.00    0.80\n",
       "2  2008-02-05  18.632856  1.00    0.90\n",
       "3  2008-02-06  18.690001  1.00    0.90\n",
       "4  2008-02-07  17.138571  0.25    0.80"
      ]
     },
     "execution_count": 69,
     "metadata": {},
     "output_type": "execute_result"
    }
   ],
   "source": [
    "df['Tweets'] = pred\n",
    "df.head()"
   ]
  },
  {
   "cell_type": "markdown",
   "metadata": {},
   "source": [
    "## Add the sentiment values as new columns"
   ]
  },
  {
   "cell_type": "code",
   "execution_count": 70,
   "metadata": {},
   "outputs": [
    {
     "data": {
      "text/plain": [
       "array([[0.03701003, 1.        , 0.64285714],\n",
       "       [0.03568848, 0.        , 0.71428571],\n",
       "       [0.03322765, 1.        , 0.85714286],\n",
       "       ...,\n",
       "       [0.69226012, 0.6       , 0.78571429],\n",
       "       [0.70529339, 1.        , 0.79591837],\n",
       "       [0.70916693, 1.        , 0.85714286]])"
      ]
     },
     "execution_count": 70,
     "metadata": {},
     "output_type": "execute_result"
    }
   ],
   "source": [
    "from sklearn.preprocessing import MinMaxScaler\n",
    "sc = MinMaxScaler(feature_range = (0, 1))\n",
    "\n",
    "dataset = pd.DataFrame(df['Open'])\n",
    "dataset['News'] = df['News']\n",
    "dataset['Tweets'] = df['Tweets']\n",
    "\n",
    "dataset_scaled = sc.fit_transform(dataset)\n",
    "\n",
    "dataset_scaled"
   ]
  },
  {
   "cell_type": "markdown",
   "metadata": {},
   "source": [
    "## Split into training and testing"
   ]
  },
  {
   "cell_type": "code",
   "execution_count": 71,
   "metadata": {},
   "outputs": [],
   "source": [
    "training = split\n",
    "total = dataset_scaled.shape[0]\n",
    "train_index = int(total*training)\n",
    "\n",
    "# training_set_scaled = dataset_scaled[:train_index]"
   ]
  },
  {
   "cell_type": "markdown",
   "metadata": {},
   "source": [
    "## Taking time window as 60 days"
   ]
  },
  {
   "cell_type": "code",
   "execution_count": 72,
   "metadata": {},
   "outputs": [],
   "source": [
    "X = []\n",
    "y = []\n",
    "for i in range(60, total):\n",
    "    X.append(dataset_scaled[i-60:i])\n",
    "    y.append(dataset_scaled[i])\n",
    "X, y = np.array(X), np.array(y)\n",
    "\n",
    "# Reshaping\n",
    "# X_train = np.reshape(X_train, (X_train.shape[0], X_train.shape[1], 1))"
   ]
  },
  {
   "cell_type": "code",
   "execution_count": 73,
   "metadata": {},
   "outputs": [],
   "source": [
    "X_train = X[:train_index]\n",
    "y_train = y[:train_index]\n",
    "X_test = X[train_index:]\n",
    "# X_test.shape"
   ]
  },
  {
   "cell_type": "markdown",
   "metadata": {},
   "source": [
    "## LSTM"
   ]
  },
  {
   "cell_type": "code",
   "execution_count": 74,
   "metadata": {},
   "outputs": [],
   "source": [
    "model = Sequential()\n",
    "\n",
    "model.add(LSTM(units = 50, return_sequences = True, input_shape = (X_train.shape[1], 3)))\n",
    "model.add(Dropout(0.2))\n",
    "\n",
    "model.add(LSTM(units = 50, return_sequences = True))\n",
    "model.add(Dropout(0.2))\n",
    "\n",
    "model.add(LSTM(units = 50, return_sequences = True))\n",
    "model.add(Dropout(0.2))\n",
    "\n",
    "model.add(LSTM(units = 50))\n",
    "model.add(Dropout(0.2))\n",
    "\n",
    "model.add(Dense(units = 3))\n",
    "\n",
    "model.compile(optimizer = 'adam', loss = 'mean_squared_error')"
   ]
  },
  {
   "cell_type": "code",
   "execution_count": 75,
   "metadata": {},
   "outputs": [
    {
     "name": "stdout",
     "output_type": "stream",
     "text": [
      "Epoch 1/100\n",
      "1385/1385 [==============================] - 10s 7ms/step - loss: 0.1088\n",
      "Epoch 2/100\n",
      "1385/1385 [==============================] - 8s 6ms/step - loss: 0.0342\n",
      "Epoch 3/100\n",
      "1385/1385 [==============================] - 6s 5ms/step - loss: 0.0327\n",
      "Epoch 4/100\n",
      "1385/1385 [==============================] - 5s 4ms/step - loss: 0.0327\n",
      "Epoch 5/100\n",
      "1385/1385 [==============================] - 5s 4ms/step - loss: 0.0280\n",
      "Epoch 6/100\n",
      "1385/1385 [==============================] - 5s 3ms/step - loss: 0.0266\n",
      "Epoch 7/100\n",
      "1385/1385 [==============================] - 5s 3ms/step - loss: 0.0268\n",
      "Epoch 8/100\n",
      "1385/1385 [==============================] - 4s 3ms/step - loss: 0.0259\n",
      "Epoch 9/100\n",
      "1385/1385 [==============================] - 6s 4ms/step - loss: 0.0255\n",
      "Epoch 10/100\n",
      "1385/1385 [==============================] - 5s 3ms/step - loss: 0.0247\n",
      "Epoch 11/100\n",
      "1385/1385 [==============================] - 4s 3ms/step - loss: 0.0244\n",
      "Epoch 12/100\n",
      "1385/1385 [==============================] - 5s 3ms/step - loss: 0.0249\n",
      "Epoch 13/100\n",
      "1385/1385 [==============================] - 6s 5ms/step - loss: 0.0244\n",
      "Epoch 14/100\n",
      "1385/1385 [==============================] - 6s 4ms/step - loss: 0.0241\n",
      "Epoch 15/100\n",
      "1385/1385 [==============================] - 4s 3ms/step - loss: 0.0238\n",
      "Epoch 16/100\n",
      "1385/1385 [==============================] - 4s 3ms/step - loss: 0.0232\n",
      "Epoch 17/100\n",
      "1385/1385 [==============================] - 4s 3ms/step - loss: 0.0242\n",
      "Epoch 18/100\n",
      "1385/1385 [==============================] - 4s 3ms/step - loss: 0.0239\n",
      "Epoch 19/100\n",
      "1385/1385 [==============================] - 4s 3ms/step - loss: 0.0233\n",
      "Epoch 20/100\n",
      "1385/1385 [==============================] - 4s 3ms/step - loss: 0.0236\n",
      "Epoch 21/100\n",
      "1385/1385 [==============================] - 5s 3ms/step - loss: 0.0225\n",
      "Epoch 22/100\n",
      "1385/1385 [==============================] - 4s 3ms/step - loss: 0.0237\n",
      "Epoch 23/100\n",
      "1385/1385 [==============================] - 4s 3ms/step - loss: 0.0231\n",
      "Epoch 24/100\n",
      "1385/1385 [==============================] - 4s 3ms/step - loss: 0.0222\n",
      "Epoch 25/100\n",
      "1385/1385 [==============================] - 4s 3ms/step - loss: 0.0222\n",
      "Epoch 26/100\n",
      "1385/1385 [==============================] - 4s 3ms/step - loss: 0.0220\n",
      "Epoch 27/100\n",
      "1385/1385 [==============================] - 4s 3ms/step - loss: 0.0223\n",
      "Epoch 28/100\n",
      "1385/1385 [==============================] - 4s 3ms/step - loss: 0.0222\n",
      "Epoch 29/100\n",
      "1385/1385 [==============================] - 4s 3ms/step - loss: 0.0223\n",
      "Epoch 30/100\n",
      "1385/1385 [==============================] - 4s 3ms/step - loss: 0.0218\n",
      "Epoch 31/100\n",
      "1385/1385 [==============================] - 6s 4ms/step - loss: 0.0221\n",
      "Epoch 32/100\n",
      "1385/1385 [==============================] - 6s 5ms/step - loss: 0.0216\n",
      "Epoch 33/100\n",
      "1385/1385 [==============================] - 4s 3ms/step - loss: 0.0215\n",
      "Epoch 34/100\n",
      "1385/1385 [==============================] - 4s 3ms/step - loss: 0.0218\n",
      "Epoch 35/100\n",
      "1385/1385 [==============================] - 4s 3ms/step - loss: 0.0218\n",
      "Epoch 36/100\n",
      "1385/1385 [==============================] - 4s 3ms/step - loss: 0.0210\n",
      "Epoch 37/100\n",
      "1385/1385 [==============================] - 4s 3ms/step - loss: 0.0218\n",
      "Epoch 38/100\n",
      "1385/1385 [==============================] - 4s 3ms/step - loss: 0.0214\n",
      "Epoch 39/100\n",
      "1385/1385 [==============================] - 4s 3ms/step - loss: 0.0212\n",
      "Epoch 40/100\n",
      "1385/1385 [==============================] - 4s 3ms/step - loss: 0.0211\n",
      "Epoch 41/100\n",
      "1385/1385 [==============================] - 4s 3ms/step - loss: 0.0212\n",
      "Epoch 42/100\n",
      "1385/1385 [==============================] - 4s 3ms/step - loss: 0.0215\n",
      "Epoch 43/100\n",
      "1385/1385 [==============================] - 4s 3ms/step - loss: 0.0217\n",
      "Epoch 44/100\n",
      "1385/1385 [==============================] - 4s 3ms/step - loss: 0.0212\n",
      "Epoch 45/100\n",
      "1385/1385 [==============================] - 4s 3ms/step - loss: 0.0212\n",
      "Epoch 46/100\n",
      "1385/1385 [==============================] - 4s 3ms/step - loss: 0.0212\n",
      "Epoch 47/100\n",
      "1385/1385 [==============================] - 4s 3ms/step - loss: 0.0213\n",
      "Epoch 48/100\n",
      "1385/1385 [==============================] - 4s 3ms/step - loss: 0.0204\n",
      "Epoch 49/100\n",
      "1385/1385 [==============================] - 4s 3ms/step - loss: 0.0209\n",
      "Epoch 50/100\n",
      "1385/1385 [==============================] - 4s 3ms/step - loss: 0.0206\n",
      "Epoch 51/100\n",
      "1385/1385 [==============================] - 4s 3ms/step - loss: 0.0207\n",
      "Epoch 52/100\n",
      "1385/1385 [==============================] - 4s 3ms/step - loss: 0.0209\n",
      "Epoch 53/100\n",
      "1385/1385 [==============================] - 4s 3ms/step - loss: 0.0206\n",
      "Epoch 54/100\n",
      "1385/1385 [==============================] - 4s 3ms/step - loss: 0.0209\n",
      "Epoch 55/100\n",
      "1385/1385 [==============================] - 4s 3ms/step - loss: 0.0205\n",
      "Epoch 56/100\n",
      "1385/1385 [==============================] - 4s 3ms/step - loss: 0.0203\n",
      "Epoch 57/100\n",
      "1385/1385 [==============================] - 5s 3ms/step - loss: 0.0206\n",
      "Epoch 58/100\n",
      "1385/1385 [==============================] - 4s 3ms/step - loss: 0.0209\n",
      "Epoch 59/100\n",
      "1385/1385 [==============================] - 5s 3ms/step - loss: 0.0208\n",
      "Epoch 60/100\n",
      "1385/1385 [==============================] - 4s 3ms/step - loss: 0.0205\n",
      "Epoch 61/100\n",
      "1385/1385 [==============================] - 4s 3ms/step - loss: 0.0204\n",
      "Epoch 62/100\n",
      "1385/1385 [==============================] - 4s 3ms/step - loss: 0.0205\n",
      "Epoch 63/100\n",
      "1385/1385 [==============================] - 4s 3ms/step - loss: 0.0205\n",
      "Epoch 64/100\n",
      "1385/1385 [==============================] - 4s 3ms/step - loss: 0.0203\n",
      "Epoch 65/100\n",
      "1385/1385 [==============================] - 7s 5ms/step - loss: 0.0205\n",
      "Epoch 66/100\n",
      "1385/1385 [==============================] - 6s 5ms/step - loss: 0.0205\n",
      "Epoch 67/100\n",
      "1385/1385 [==============================] - 6s 4ms/step - loss: 0.0202\n",
      "Epoch 68/100\n",
      "1385/1385 [==============================] - 6s 5ms/step - loss: 0.0204\n",
      "Epoch 69/100\n",
      "1385/1385 [==============================] - 4s 3ms/step - loss: 0.0203\n",
      "Epoch 70/100\n",
      "1385/1385 [==============================] - 4s 3ms/step - loss: 0.0203\n",
      "Epoch 71/100\n",
      "1385/1385 [==============================] - 4s 3ms/step - loss: 0.0201\n",
      "Epoch 72/100\n",
      "1385/1385 [==============================] - 4s 3ms/step - loss: 0.0201\n",
      "Epoch 73/100\n",
      "1385/1385 [==============================] - 4s 3ms/step - loss: 0.0200\n",
      "Epoch 74/100\n",
      "1385/1385 [==============================] - 4s 3ms/step - loss: 0.0200\n",
      "Epoch 75/100\n",
      "1385/1385 [==============================] - 4s 3ms/step - loss: 0.0200\n",
      "Epoch 76/100\n",
      "1385/1385 [==============================] - 4s 3ms/step - loss: 0.0201\n",
      "Epoch 77/100\n",
      "1385/1385 [==============================] - 4s 3ms/step - loss: 0.0203\n",
      "Epoch 78/100\n",
      "1385/1385 [==============================] - 4s 3ms/step - loss: 0.0203\n",
      "Epoch 79/100\n",
      "1385/1385 [==============================] - 4s 3ms/step - loss: 0.0200\n",
      "Epoch 80/100\n",
      "1385/1385 [==============================] - 4s 3ms/step - loss: 0.0198\n",
      "Epoch 81/100\n",
      "1385/1385 [==============================] - 4s 3ms/step - loss: 0.0197\n",
      "Epoch 82/100\n",
      "1385/1385 [==============================] - 4s 3ms/step - loss: 0.0203\n",
      "Epoch 83/100\n",
      "1385/1385 [==============================] - 4s 3ms/step - loss: 0.0198\n",
      "Epoch 84/100\n",
      "1385/1385 [==============================] - 5s 3ms/step - loss: 0.0201\n",
      "Epoch 85/100\n",
      "1385/1385 [==============================] - 4s 3ms/step - loss: 0.0198\n",
      "Epoch 86/100\n",
      "1385/1385 [==============================] - 5s 3ms/step - loss: 0.0197\n",
      "Epoch 87/100\n",
      "1385/1385 [==============================] - 4s 3ms/step - loss: 0.0198\n",
      "Epoch 88/100\n",
      "1385/1385 [==============================] - 4s 3ms/step - loss: 0.0197\n",
      "Epoch 89/100\n",
      "1385/1385 [==============================] - 4s 3ms/step - loss: 0.0198\n",
      "Epoch 90/100\n",
      "1385/1385 [==============================] - 4s 3ms/step - loss: 0.0199\n",
      "Epoch 91/100\n",
      "1385/1385 [==============================] - 4s 3ms/step - loss: 0.0197\n",
      "Epoch 92/100\n",
      "1385/1385 [==============================] - 4s 3ms/step - loss: 0.0198\n",
      "Epoch 93/100\n",
      "1385/1385 [==============================] - 4s 3ms/step - loss: 0.0200\n",
      "Epoch 94/100\n",
      "1385/1385 [==============================] - 6s 4ms/step - loss: 0.0198\n",
      "Epoch 95/100\n",
      "1385/1385 [==============================] - 8s 5ms/step - loss: 0.0198\n",
      "Epoch 96/100\n",
      "1385/1385 [==============================] - 7s 5ms/step - loss: 0.0197\n",
      "Epoch 97/100\n"
     ]
    },
    {
     "name": "stdout",
     "output_type": "stream",
     "text": [
      "1385/1385 [==============================] - 6s 4ms/step - loss: 0.0197\n",
      "Epoch 98/100\n",
      "1385/1385 [==============================] - 6s 4ms/step - loss: 0.0196\n",
      "Epoch 99/100\n",
      "1385/1385 [==============================] - 6s 4ms/step - loss: 0.0196\n",
      "Epoch 100/100\n",
      "1385/1385 [==============================] - 6s 4ms/step - loss: 0.0195\n"
     ]
    },
    {
     "data": {
      "text/plain": [
       "<keras.callbacks.History at 0x7fca15ba5940>"
      ]
     },
     "execution_count": 75,
     "metadata": {},
     "output_type": "execute_result"
    }
   ],
   "source": [
    "model.fit(X_train, y_train, epochs = num_epochs, batch_size = 32)"
   ]
  },
  {
   "cell_type": "code",
   "execution_count": 76,
   "metadata": {},
   "outputs": [
    {
     "data": {
      "text/html": [
       "<div>\n",
       "<style scoped>\n",
       "    .dataframe tbody tr th:only-of-type {\n",
       "        vertical-align: middle;\n",
       "    }\n",
       "\n",
       "    .dataframe tbody tr th {\n",
       "        vertical-align: top;\n",
       "    }\n",
       "\n",
       "    .dataframe thead th {\n",
       "        text-align: right;\n",
       "    }\n",
       "</style>\n",
       "<table border=\"1\" class=\"dataframe\">\n",
       "  <thead>\n",
       "    <tr style=\"text-align: right;\">\n",
       "      <th></th>\n",
       "      <th>Date</th>\n",
       "      <th>Open</th>\n",
       "      <th>News</th>\n",
       "      <th>Tweets</th>\n",
       "    </tr>\n",
       "  </thead>\n",
       "  <tbody>\n",
       "    <tr>\n",
       "      <th>1385</th>\n",
       "      <td>2013-08-02</td>\n",
       "      <td>65.430000</td>\n",
       "      <td>0.833333</td>\n",
       "      <td>0.95</td>\n",
       "    </tr>\n",
       "    <tr>\n",
       "      <th>1386</th>\n",
       "      <td>2013-08-05</td>\n",
       "      <td>66.384285</td>\n",
       "      <td>1.000000</td>\n",
       "      <td>0.80</td>\n",
       "    </tr>\n",
       "    <tr>\n",
       "      <th>1387</th>\n",
       "      <td>2013-08-06</td>\n",
       "      <td>66.860001</td>\n",
       "      <td>1.000000</td>\n",
       "      <td>0.85</td>\n",
       "    </tr>\n",
       "    <tr>\n",
       "      <th>1388</th>\n",
       "      <td>2013-08-07</td>\n",
       "      <td>66.257141</td>\n",
       "      <td>1.000000</td>\n",
       "      <td>0.85</td>\n",
       "    </tr>\n",
       "    <tr>\n",
       "      <th>1389</th>\n",
       "      <td>2013-08-08</td>\n",
       "      <td>66.265717</td>\n",
       "      <td>0.875000</td>\n",
       "      <td>0.95</td>\n",
       "    </tr>\n",
       "  </tbody>\n",
       "</table>\n",
       "</div>"
      ],
      "text/plain": [
       "            Date       Open      News  Tweets\n",
       "1385  2013-08-02  65.430000  0.833333    0.95\n",
       "1386  2013-08-05  66.384285  1.000000    0.80\n",
       "1387  2013-08-06  66.860001  1.000000    0.85\n",
       "1388  2013-08-07  66.257141  1.000000    0.85\n",
       "1389  2013-08-08  66.265717  0.875000    0.95"
      ]
     },
     "execution_count": 76,
     "metadata": {},
     "output_type": "execute_result"
    }
   ],
   "source": [
    "testing_set = df[train_index:]\n",
    "testing_set = pd.DataFrame(testing_set)\n",
    "testing_set.head()"
   ]
  },
  {
   "cell_type": "code",
   "execution_count": null,
   "metadata": {},
   "outputs": [],
   "source": []
  },
  {
   "cell_type": "code",
   "execution_count": 77,
   "metadata": {},
   "outputs": [],
   "source": [
    "real_stock_price = pd.DataFrame(testing_set['Open']).reset_index(drop=True)"
   ]
  },
  {
   "cell_type": "code",
   "execution_count": 78,
   "metadata": {},
   "outputs": [],
   "source": [
    "predicted_stock_price = model.predict(X_test)\n",
    "predicted_stock_price = sc.inverse_transform(predicted_stock_price)"
   ]
  },
  {
   "cell_type": "code",
   "execution_count": 79,
   "metadata": {},
   "outputs": [],
   "source": [
    "predicted=pd.DataFrame(predicted_stock_price)\n",
    "real_price = real_stock_price[60:].reset_index(drop=True)\n",
    "predicted_old = predicted_stock_price_old[60:].reset_index(drop=True)"
   ]
  },
  {
   "cell_type": "markdown",
   "metadata": {},
   "source": [
    "## Plotting predicted with sentimet vs predicted without sentiment vs actual"
   ]
  },
  {
   "cell_type": "code",
   "execution_count": 80,
   "metadata": {},
   "outputs": [
    {
     "data": {
      "image/png": "[encoded data removed]",
      "text/plain": [
       "<matplotlib.figure.Figure at 0x7fca11549f28>"
      ]
     },
     "metadata": {},
     "output_type": "display_data"
    }
   ],
   "source": [
    "plt.rcParams['figure.figsize'] = [12, 10]\n",
    "plt.plot(real_price, color = 'red', label = 'Real Stock Price')\n",
    "plt.plot(predicted_old, color = 'green', label = 'Predicted without Sentiment')\n",
    "plt.plot(predicted[0], color = 'blue', label = 'Predicted with Sentiment')\n",
    "plt.title('Apple Stock Price Prediction')\n",
    "plt.xlabel('Time')\n",
    "plt.ylabel('Apple Stock Price')\n",
    "plt.legend()\n",
    "plt.show()"
   ]
  },
  {
   "cell_type": "code",
   "execution_count": 81,
   "metadata": {},
   "outputs": [
    {
     "data": {
      "text/plain": [
       "147.64758921739997"
      ]
     },
     "execution_count": 81,
     "metadata": {},
     "output_type": "execute_result"
    }
   ],
   "source": [
    " mean_squared_error(real_price, predicted[0])"
   ]
  },
  {
   "cell_type": "code",
   "execution_count": 82,
   "metadata": {},
   "outputs": [
    {
     "data": {
      "text/plain": [
       "364.12526611203714"
      ]
     },
     "execution_count": 82,
     "metadata": {},
     "output_type": "execute_result"
    }
   ],
   "source": [
    " mean_squared_error(real_price, predicted_old)"
   ]
  },
  {
   "cell_type": "code",
   "execution_count": null,
   "metadata": {},
   "outputs": [],
   "source": []
  }
 ],
 "metadata": {
  "kernelspec": {
   "display_name": "Python 3",
   "language": "python",
   "name": "python3"
  },
  "language_info": {
   "codemirror_mode": {
    "name": "ipython",
    "version": 3
   },
   "file_extension": ".py",
   "mimetype": "text/x-python",
   "name": "python",
   "nbconvert_exporter": "python",
   "pygments_lexer": "ipython3",
   "version": "3.6.4"
  }
 },
 "nbformat": 4,
 "nbformat_minor": 2
}
