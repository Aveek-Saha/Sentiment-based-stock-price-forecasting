{
 "cells": [
  {
   "cell_type": "code",
   "execution_count": 1,
   "metadata": {},
   "outputs": [],
   "source": [
    "import csv\n",
    "import pandas as pd\n",
    "import numpy as np\n",
    "import matplotlib.pyplot as plt\n",
    "\n",
    "import warnings\n",
    "warnings.filterwarnings('ignore')"
   ]
  },
  {
   "cell_type": "code",
   "execution_count": 2,
   "metadata": {},
   "outputs": [],
   "source": [
    "num_epochs = 100\n",
    "batch_size = 32\n",
    "split = 0.4 # best at 0.7/0.6 . Big difference for 0.3,0.4"
   ]
  },
  {
   "cell_type": "markdown",
   "metadata": {},
   "source": [
    "# Baseline reading with only stock prices"
   ]
  },
  {
   "cell_type": "code",
   "execution_count": 3,
   "metadata": {},
   "outputs": [],
   "source": [
    "df = pd.read_csv('./datasets/AAPL.csv')"
   ]
  },
  {
   "cell_type": "code",
   "execution_count": 4,
   "metadata": {},
   "outputs": [
    {
     "data": {
      "text/html": [
       "<div>\n",
       "<style scoped>\n",
       "    .dataframe tbody tr th:only-of-type {\n",
       "        vertical-align: middle;\n",
       "    }\n",
       "\n",
       "    .dataframe tbody tr th {\n",
       "        vertical-align: top;\n",
       "    }\n",
       "\n",
       "    .dataframe thead th {\n",
       "        text-align: right;\n",
       "    }\n",
       "</style>\n",
       "<table border=\"1\" class=\"dataframe\">\n",
       "  <thead>\n",
       "    <tr style=\"text-align: right;\">\n",
       "      <th></th>\n",
       "      <th>Date</th>\n",
       "      <th>Open</th>\n",
       "      <th>High</th>\n",
       "      <th>Low</th>\n",
       "      <th>Close</th>\n",
       "      <th>Adj Close</th>\n",
       "      <th>Volume</th>\n",
       "    </tr>\n",
       "  </thead>\n",
       "  <tbody>\n",
       "    <tr>\n",
       "      <th>0</th>\n",
       "      <td>2008-02-01</td>\n",
       "      <td>19.462856</td>\n",
       "      <td>19.512857</td>\n",
       "      <td>18.882856</td>\n",
       "      <td>19.107143</td>\n",
       "      <td>12.740701</td>\n",
       "      <td>252686000</td>\n",
       "    </tr>\n",
       "    <tr>\n",
       "      <th>1</th>\n",
       "      <td>2008-02-04</td>\n",
       "      <td>19.172857</td>\n",
       "      <td>19.414286</td>\n",
       "      <td>18.774286</td>\n",
       "      <td>18.807142</td>\n",
       "      <td>12.540661</td>\n",
       "      <td>224808500</td>\n",
       "    </tr>\n",
       "    <tr>\n",
       "      <th>2</th>\n",
       "      <td>2008-02-05</td>\n",
       "      <td>18.632856</td>\n",
       "      <td>19.142857</td>\n",
       "      <td>18.414286</td>\n",
       "      <td>18.480000</td>\n",
       "      <td>12.322518</td>\n",
       "      <td>285260500</td>\n",
       "    </tr>\n",
       "    <tr>\n",
       "      <th>3</th>\n",
       "      <td>2008-02-06</td>\n",
       "      <td>18.690001</td>\n",
       "      <td>18.845715</td>\n",
       "      <td>17.395714</td>\n",
       "      <td>17.428572</td>\n",
       "      <td>11.621424</td>\n",
       "      <td>393318100</td>\n",
       "    </tr>\n",
       "    <tr>\n",
       "      <th>4</th>\n",
       "      <td>2008-02-07</td>\n",
       "      <td>17.138571</td>\n",
       "      <td>17.825714</td>\n",
       "      <td>16.752857</td>\n",
       "      <td>17.320000</td>\n",
       "      <td>11.549030</td>\n",
       "      <td>520832900</td>\n",
       "    </tr>\n",
       "  </tbody>\n",
       "</table>\n",
       "</div>"
      ],
      "text/plain": [
       "         Date       Open       High        Low      Close  Adj Close  \\\n",
       "0  2008-02-01  19.462856  19.512857  18.882856  19.107143  12.740701   \n",
       "1  2008-02-04  19.172857  19.414286  18.774286  18.807142  12.540661   \n",
       "2  2008-02-05  18.632856  19.142857  18.414286  18.480000  12.322518   \n",
       "3  2008-02-06  18.690001  18.845715  17.395714  17.428572  11.621424   \n",
       "4  2008-02-07  17.138571  17.825714  16.752857  17.320000  11.549030   \n",
       "\n",
       "      Volume  \n",
       "0  252686000  \n",
       "1  224808500  \n",
       "2  285260500  \n",
       "3  393318100  \n",
       "4  520832900  "
      ]
     },
     "execution_count": 4,
     "metadata": {},
     "output_type": "execute_result"
    }
   ],
   "source": [
    "df.head()"
   ]
  },
  {
   "cell_type": "markdown",
   "metadata": {},
   "source": [
    "## We are only going to consider the opening price"
   ]
  },
  {
   "cell_type": "code",
   "execution_count": 5,
   "metadata": {},
   "outputs": [
    {
     "data": {
      "text/html": [
       "<div>\n",
       "<style scoped>\n",
       "    .dataframe tbody tr th:only-of-type {\n",
       "        vertical-align: middle;\n",
       "    }\n",
       "\n",
       "    .dataframe tbody tr th {\n",
       "        vertical-align: top;\n",
       "    }\n",
       "\n",
       "    .dataframe thead th {\n",
       "        text-align: right;\n",
       "    }\n",
       "</style>\n",
       "<table border=\"1\" class=\"dataframe\">\n",
       "  <thead>\n",
       "    <tr style=\"text-align: right;\">\n",
       "      <th></th>\n",
       "      <th>Date</th>\n",
       "      <th>Open</th>\n",
       "    </tr>\n",
       "  </thead>\n",
       "  <tbody>\n",
       "    <tr>\n",
       "      <th>0</th>\n",
       "      <td>2008-02-01</td>\n",
       "      <td>19.462856</td>\n",
       "    </tr>\n",
       "    <tr>\n",
       "      <th>1</th>\n",
       "      <td>2008-02-04</td>\n",
       "      <td>19.172857</td>\n",
       "    </tr>\n",
       "    <tr>\n",
       "      <th>2</th>\n",
       "      <td>2008-02-05</td>\n",
       "      <td>18.632856</td>\n",
       "    </tr>\n",
       "    <tr>\n",
       "      <th>3</th>\n",
       "      <td>2008-02-06</td>\n",
       "      <td>18.690001</td>\n",
       "    </tr>\n",
       "    <tr>\n",
       "      <th>4</th>\n",
       "      <td>2008-02-07</td>\n",
       "      <td>17.138571</td>\n",
       "    </tr>\n",
       "  </tbody>\n",
       "</table>\n",
       "</div>"
      ],
      "text/plain": [
       "         Date       Open\n",
       "0  2008-02-01  19.462856\n",
       "1  2008-02-04  19.172857\n",
       "2  2008-02-05  18.632856\n",
       "3  2008-02-06  18.690001\n",
       "4  2008-02-07  17.138571"
      ]
     },
     "execution_count": 5,
     "metadata": {},
     "output_type": "execute_result"
    }
   ],
   "source": [
    "df = df.drop(df.columns[2:],axis=1)\n",
    "df.head()"
   ]
  },
  {
   "cell_type": "markdown",
   "metadata": {},
   "source": [
    "### Graph of the entire dataset"
   ]
  },
  {
   "cell_type": "code",
   "execution_count": 6,
   "metadata": {},
   "outputs": [
    {
     "data": {
      "text/plain": [
       "<matplotlib.axes._subplots.AxesSubplot at 0x7fb51bc57da0>"
      ]
     },
     "execution_count": 6,
     "metadata": {},
     "output_type": "execute_result"
    },
    {
     "data": {
      "image/png": "[encoded data removed]",
      "text/plain": [
       "<matplotlib.figure.Figure at 0x7fb51bc578d0>"
      ]
     },
     "metadata": {},
     "output_type": "display_data"
    }
   ],
   "source": [
    "df['Open'].plot(figsize=(12,6))"
   ]
  },
  {
   "cell_type": "code",
   "execution_count": 7,
   "metadata": {},
   "outputs": [],
   "source": [
    "training = split\n",
    "total = df.shape[0]\n",
    "train_index = int(total*training)\n",
    "\n",
    "training_set = df[:train_index]"
   ]
  },
  {
   "cell_type": "markdown",
   "metadata": {},
   "source": [
    "## Feature scaling"
   ]
  },
  {
   "cell_type": "code",
   "execution_count": 8,
   "metadata": {},
   "outputs": [],
   "source": [
    "from sklearn.preprocessing import MinMaxScaler\n",
    "sc = MinMaxScaler(feature_range = (0, 1))\n",
    "training_set_scaled = sc.fit_transform(pd.DataFrame(training_set['Open']))"
   ]
  },
  {
   "cell_type": "markdown",
   "metadata": {},
   "source": [
    "## Take time window to be 60 days"
   ]
  },
  {
   "cell_type": "code",
   "execution_count": 9,
   "metadata": {},
   "outputs": [],
   "source": [
    "X_train = []\n",
    "y_train = []\n",
    "for i in range(60, train_index):\n",
    "    X_train.append(training_set_scaled[i-60:i, 0])\n",
    "    y_train.append(training_set_scaled[i, 0])\n",
    "X_train, y_train = np.array(X_train), np.array(y_train)\n",
    "\n",
    "# Reshaping\n",
    "X_train = np.reshape(X_train, (X_train.shape[0], X_train.shape[1], 1))"
   ]
  },
  {
   "cell_type": "code",
   "execution_count": 10,
   "metadata": {},
   "outputs": [
    {
     "name": "stderr",
     "output_type": "stream",
     "text": [
      "Using TensorFlow backend.\n"
     ]
    }
   ],
   "source": [
    "from keras.models import Sequential\n",
    "from keras.layers import Dense\n",
    "from keras.layers import LSTM\n",
    "from keras.layers import Dropout"
   ]
  },
  {
   "cell_type": "markdown",
   "metadata": {},
   "source": [
    "### Create the LSTM model"
   ]
  },
  {
   "cell_type": "code",
   "execution_count": 11,
   "metadata": {},
   "outputs": [
    {
     "name": "stdout",
     "output_type": "stream",
     "text": [
      "WARNING:tensorflow:From /home/aveek/anaconda3/lib/python3.6/site-packages/tensorflow/python/framework/op_def_library.py:263: colocate_with (from tensorflow.python.framework.ops) is deprecated and will be removed in a future version.\n",
      "Instructions for updating:\n",
      "Colocations handled automatically by placer.\n",
      "WARNING:tensorflow:From /home/aveek/anaconda3/lib/python3.6/site-packages/keras/backend/tensorflow_backend.py:3445: calling dropout (from tensorflow.python.ops.nn_ops) with keep_prob is deprecated and will be removed in a future version.\n",
      "Instructions for updating:\n",
      "Please use `rate` instead of `keep_prob`. Rate should be set to `rate = 1 - keep_prob`.\n"
     ]
    }
   ],
   "source": [
    "model = Sequential()\n",
    "\n",
    "model.add(LSTM(units = 50, return_sequences = True, input_shape = (X_train.shape[1], 1)))\n",
    "model.add(Dropout(0.2))\n",
    "\n",
    "model.add(LSTM(units = 50, return_sequences = True))\n",
    "model.add(Dropout(0.2))\n",
    "\n",
    "model.add(LSTM(units = 50, return_sequences = True))\n",
    "model.add(Dropout(0.2))\n",
    "\n",
    "model.add(LSTM(units = 50))\n",
    "model.add(Dropout(0.2))\n",
    "\n",
    "model.add(Dense(units = 1))\n",
    "\n",
    "model.compile(optimizer = 'adam', loss = 'mean_squared_error')"
   ]
  },
  {
   "cell_type": "code",
   "execution_count": 12,
   "metadata": {},
   "outputs": [
    {
     "name": "stdout",
     "output_type": "stream",
     "text": [
      "WARNING:tensorflow:From /home/aveek/anaconda3/lib/python3.6/site-packages/tensorflow/python/ops/math_ops.py:3066: to_int32 (from tensorflow.python.ops.math_ops) is deprecated and will be removed in a future version.\n",
      "Instructions for updating:\n",
      "Use tf.cast instead.\n",
      "Epoch 1/100\n",
      "1048/1048 [==============================] - 6s 6ms/step - loss: 0.0235\n",
      "Epoch 2/100\n",
      "1048/1048 [==============================] - 4s 4ms/step - loss: 0.0034\n",
      "Epoch 3/100\n",
      "1048/1048 [==============================] - 4s 3ms/step - loss: 0.0034\n",
      "Epoch 4/100\n",
      "1048/1048 [==============================] - 4s 4ms/step - loss: 0.0030\n",
      "Epoch 5/100\n",
      "1048/1048 [==============================] - 4s 4ms/step - loss: 0.0029\n",
      "Epoch 6/100\n",
      "1048/1048 [==============================] - 4s 4ms/step - loss: 0.0024\n",
      "Epoch 7/100\n",
      "1048/1048 [==============================] - 4s 4ms/step - loss: 0.0029\n",
      "Epoch 8/100\n",
      "1048/1048 [==============================] - 4s 4ms/step - loss: 0.0032\n",
      "Epoch 9/100\n",
      "1048/1048 [==============================] - 4s 4ms/step - loss: 0.0026\n",
      "Epoch 10/100\n",
      "1048/1048 [==============================] - 4s 4ms/step - loss: 0.0026\n",
      "Epoch 11/100\n",
      "1048/1048 [==============================] - 4s 4ms/step - loss: 0.0023\n",
      "Epoch 12/100\n",
      "1048/1048 [==============================] - 4s 4ms/step - loss: 0.0024\n",
      "Epoch 13/100\n",
      "1048/1048 [==============================] - 4s 4ms/step - loss: 0.0024\n",
      "Epoch 14/100\n",
      "1048/1048 [==============================] - 4s 4ms/step - loss: 0.0023\n",
      "Epoch 15/100\n",
      "1048/1048 [==============================] - 4s 3ms/step - loss: 0.0021\n",
      "Epoch 16/100\n",
      "1048/1048 [==============================] - 4s 4ms/step - loss: 0.0020\n",
      "Epoch 17/100\n",
      "1048/1048 [==============================] - 4s 4ms/step - loss: 0.0019\n",
      "Epoch 18/100\n",
      "1048/1048 [==============================] - 4s 4ms/step - loss: 0.0018\n",
      "Epoch 19/100\n",
      "1048/1048 [==============================] - 4s 4ms/step - loss: 0.0018\n",
      "Epoch 20/100\n",
      "1048/1048 [==============================] - 4s 4ms/step - loss: 0.0018\n",
      "Epoch 21/100\n",
      "1048/1048 [==============================] - 4s 3ms/step - loss: 0.0018\n",
      "Epoch 22/100\n",
      "1048/1048 [==============================] - 4s 4ms/step - loss: 0.0019\n",
      "Epoch 23/100\n",
      "1048/1048 [==============================] - 4s 4ms/step - loss: 0.0019\n",
      "Epoch 24/100\n",
      "1048/1048 [==============================] - 4s 4ms/step - loss: 0.0019\n",
      "Epoch 25/100\n",
      "1048/1048 [==============================] - 4s 3ms/step - loss: 0.0021\n",
      "Epoch 26/100\n",
      "1048/1048 [==============================] - 4s 3ms/step - loss: 0.0016\n",
      "Epoch 27/100\n",
      "1048/1048 [==============================] - 4s 3ms/step - loss: 0.0017\n",
      "Epoch 28/100\n",
      "1048/1048 [==============================] - 4s 4ms/step - loss: 0.0016\n",
      "Epoch 29/100\n",
      "1048/1048 [==============================] - 4s 3ms/step - loss: 0.0015\n",
      "Epoch 30/100\n",
      "1048/1048 [==============================] - 4s 4ms/step - loss: 0.0016\n",
      "Epoch 31/100\n",
      "1048/1048 [==============================] - 4s 3ms/step - loss: 0.0017\n",
      "Epoch 32/100\n",
      "1048/1048 [==============================] - 4s 4ms/step - loss: 0.0016\n",
      "Epoch 33/100\n",
      "1048/1048 [==============================] - 4s 3ms/step - loss: 0.0017\n",
      "Epoch 34/100\n",
      "1048/1048 [==============================] - 4s 3ms/step - loss: 0.0016\n",
      "Epoch 35/100\n",
      "1048/1048 [==============================] - 4s 4ms/step - loss: 0.0014\n",
      "Epoch 36/100\n",
      "1048/1048 [==============================] - 4s 3ms/step - loss: 0.0014\n",
      "Epoch 37/100\n",
      "1048/1048 [==============================] - 4s 4ms/step - loss: 0.0013\n",
      "Epoch 38/100\n",
      "1048/1048 [==============================] - 4s 4ms/step - loss: 0.0012\n",
      "Epoch 39/100\n",
      "1048/1048 [==============================] - 4s 3ms/step - loss: 0.0015\n",
      "Epoch 40/100\n",
      "1048/1048 [==============================] - 4s 4ms/step - loss: 0.0013\n",
      "Epoch 41/100\n",
      "1048/1048 [==============================] - 4s 3ms/step - loss: 0.0013\n",
      "Epoch 42/100\n",
      "1048/1048 [==============================] - 4s 4ms/step - loss: 0.0015\n",
      "Epoch 43/100\n",
      "1048/1048 [==============================] - 4s 4ms/step - loss: 0.0013\n",
      "Epoch 44/100\n",
      "1048/1048 [==============================] - 4s 4ms/step - loss: 0.0015\n",
      "Epoch 45/100\n",
      "1048/1048 [==============================] - 4s 4ms/step - loss: 0.0015\n",
      "Epoch 46/100\n",
      "1048/1048 [==============================] - 4s 4ms/step - loss: 0.0014\n",
      "Epoch 47/100\n",
      "1048/1048 [==============================] - 4s 4ms/step - loss: 0.0012\n",
      "Epoch 48/100\n",
      "1048/1048 [==============================] - 4s 4ms/step - loss: 0.0014\n",
      "Epoch 49/100\n",
      "1048/1048 [==============================] - 4s 4ms/step - loss: 0.0013\n",
      "Epoch 50/100\n",
      "1048/1048 [==============================] - 4s 4ms/step - loss: 0.0015\n",
      "Epoch 51/100\n",
      "1048/1048 [==============================] - 4s 4ms/step - loss: 0.0014\n",
      "Epoch 52/100\n",
      "1048/1048 [==============================] - 4s 4ms/step - loss: 0.0015\n",
      "Epoch 53/100\n",
      "1048/1048 [==============================] - 4s 4ms/step - loss: 0.0012\n",
      "Epoch 54/100\n",
      "1048/1048 [==============================] - 4s 4ms/step - loss: 0.0012\n",
      "Epoch 55/100\n",
      "1048/1048 [==============================] - 4s 4ms/step - loss: 0.0013\n",
      "Epoch 56/100\n",
      "1048/1048 [==============================] - 4s 4ms/step - loss: 0.0012\n",
      "Epoch 57/100\n",
      "1048/1048 [==============================] - 4s 4ms/step - loss: 0.0012\n",
      "Epoch 58/100\n",
      "1048/1048 [==============================] - 4s 4ms/step - loss: 0.0011\n",
      "Epoch 59/100\n",
      "1048/1048 [==============================] - 4s 4ms/step - loss: 0.0013\n",
      "Epoch 60/100\n",
      "1048/1048 [==============================] - 4s 4ms/step - loss: 0.0011\n",
      "Epoch 61/100\n",
      "1048/1048 [==============================] - 4s 4ms/step - loss: 0.0012\n",
      "Epoch 62/100\n",
      "1048/1048 [==============================] - 4s 4ms/step - loss: 0.0012\n",
      "Epoch 63/100\n",
      "1048/1048 [==============================] - 4s 4ms/step - loss: 0.0011\n",
      "Epoch 64/100\n",
      "1048/1048 [==============================] - 4s 4ms/step - loss: 0.0011\n",
      "Epoch 65/100\n",
      "1048/1048 [==============================] - 4s 4ms/step - loss: 0.0013\n",
      "Epoch 66/100\n",
      "1048/1048 [==============================] - 4s 4ms/step - loss: 0.0011\n",
      "Epoch 67/100\n",
      "1048/1048 [==============================] - 4s 4ms/step - loss: 0.0010\n",
      "Epoch 68/100\n",
      "1048/1048 [==============================] - 4s 4ms/step - loss: 0.0011\n",
      "Epoch 69/100\n",
      "1048/1048 [==============================] - 4s 4ms/step - loss: 0.0013\n",
      "Epoch 70/100\n",
      "1048/1048 [==============================] - 4s 4ms/step - loss: 9.9513e-04\n",
      "Epoch 71/100\n",
      "1048/1048 [==============================] - 4s 4ms/step - loss: 0.0013\n",
      "Epoch 72/100\n",
      "1048/1048 [==============================] - 4s 4ms/step - loss: 0.0010\n",
      "Epoch 73/100\n",
      "1048/1048 [==============================] - 4s 4ms/step - loss: 9.6183e-04\n",
      "Epoch 74/100\n",
      "1048/1048 [==============================] - 4s 4ms/step - loss: 0.0011\n",
      "Epoch 75/100\n",
      "1048/1048 [==============================] - 4s 4ms/step - loss: 9.7174e-04\n",
      "Epoch 76/100\n",
      "1048/1048 [==============================] - 4s 4ms/step - loss: 9.9566e-04\n",
      "Epoch 77/100\n",
      "1048/1048 [==============================] - 4s 4ms/step - loss: 0.0010\n",
      "Epoch 78/100\n",
      "1048/1048 [==============================] - 4s 4ms/step - loss: 0.0010\n",
      "Epoch 79/100\n",
      "1048/1048 [==============================] - 4s 4ms/step - loss: 9.4432e-04\n",
      "Epoch 80/100\n",
      "1048/1048 [==============================] - 4s 4ms/step - loss: 9.8849e-04\n",
      "Epoch 81/100\n",
      "1048/1048 [==============================] - 4s 4ms/step - loss: 0.0012\n",
      "Epoch 82/100\n",
      "1048/1048 [==============================] - 4s 4ms/step - loss: 0.0012\n",
      "Epoch 83/100\n",
      "1048/1048 [==============================] - 4s 4ms/step - loss: 0.0011\n",
      "Epoch 84/100\n",
      "1048/1048 [==============================] - 4s 4ms/step - loss: 8.6156e-04\n",
      "Epoch 85/100\n",
      "1048/1048 [==============================] - 4s 4ms/step - loss: 0.0011\n",
      "Epoch 86/100\n",
      "1048/1048 [==============================] - 4s 4ms/step - loss: 8.7569e-04\n",
      "Epoch 87/100\n",
      "1048/1048 [==============================] - 4s 4ms/step - loss: 0.0010\n",
      "Epoch 88/100\n",
      "1048/1048 [==============================] - 4s 4ms/step - loss: 9.9313e-04\n",
      "Epoch 89/100\n",
      "1048/1048 [==============================] - 4s 4ms/step - loss: 9.0638e-04\n",
      "Epoch 90/100\n",
      "1048/1048 [==============================] - 4s 4ms/step - loss: 8.7854e-04\n",
      "Epoch 91/100\n",
      "1048/1048 [==============================] - 4s 4ms/step - loss: 9.1137e-04\n",
      "Epoch 92/100\n",
      "1048/1048 [==============================] - 4s 4ms/step - loss: 0.0011\n",
      "Epoch 93/100\n"
     ]
    },
    {
     "name": "stdout",
     "output_type": "stream",
     "text": [
      "1048/1048 [==============================] - 4s 3ms/step - loss: 9.7069e-04\n",
      "Epoch 94/100\n",
      "1048/1048 [==============================] - 4s 3ms/step - loss: 0.0012\n",
      "Epoch 95/100\n",
      "1048/1048 [==============================] - 4s 3ms/step - loss: 9.4330e-04\n",
      "Epoch 96/100\n",
      "1048/1048 [==============================] - 4s 3ms/step - loss: 0.0010\n",
      "Epoch 97/100\n",
      "1048/1048 [==============================] - 4s 3ms/step - loss: 9.9466e-04\n",
      "Epoch 98/100\n",
      "1048/1048 [==============================] - 4s 3ms/step - loss: 8.9992e-04\n",
      "Epoch 99/100\n",
      "1048/1048 [==============================] - 4s 3ms/step - loss: 0.0012\n",
      "Epoch 100/100\n",
      "1048/1048 [==============================] - 4s 3ms/step - loss: 0.0011\n"
     ]
    },
    {
     "data": {
      "text/plain": [
       "<keras.callbacks.History at 0x7fb50b455eb8>"
      ]
     },
     "execution_count": 12,
     "metadata": {},
     "output_type": "execute_result"
    }
   ],
   "source": [
    "model.fit(X_train, y_train, epochs = num_epochs, batch_size = batch_size)"
   ]
  },
  {
   "cell_type": "code",
   "execution_count": 13,
   "metadata": {},
   "outputs": [
    {
     "data": {
      "text/html": [
       "<div>\n",
       "<style scoped>\n",
       "    .dataframe tbody tr th:only-of-type {\n",
       "        vertical-align: middle;\n",
       "    }\n",
       "\n",
       "    .dataframe tbody tr th {\n",
       "        vertical-align: top;\n",
       "    }\n",
       "\n",
       "    .dataframe thead th {\n",
       "        text-align: right;\n",
       "    }\n",
       "</style>\n",
       "<table border=\"1\" class=\"dataframe\">\n",
       "  <thead>\n",
       "    <tr style=\"text-align: right;\">\n",
       "      <th></th>\n",
       "      <th>Date</th>\n",
       "      <th>Open</th>\n",
       "    </tr>\n",
       "  </thead>\n",
       "  <tbody>\n",
       "    <tr>\n",
       "      <th>1108</th>\n",
       "      <td>2012-06-25</td>\n",
       "      <td>82.471428</td>\n",
       "    </tr>\n",
       "    <tr>\n",
       "      <th>1109</th>\n",
       "      <td>2012-06-26</td>\n",
       "      <td>81.618568</td>\n",
       "    </tr>\n",
       "    <tr>\n",
       "      <th>1110</th>\n",
       "      <td>2012-06-27</td>\n",
       "      <td>82.142860</td>\n",
       "    </tr>\n",
       "    <tr>\n",
       "      <th>1111</th>\n",
       "      <td>2012-06-28</td>\n",
       "      <td>81.667145</td>\n",
       "    </tr>\n",
       "    <tr>\n",
       "      <th>1112</th>\n",
       "      <td>2012-06-29</td>\n",
       "      <td>82.571426</td>\n",
       "    </tr>\n",
       "  </tbody>\n",
       "</table>\n",
       "</div>"
      ],
      "text/plain": [
       "            Date       Open\n",
       "1108  2012-06-25  82.471428\n",
       "1109  2012-06-26  81.618568\n",
       "1110  2012-06-27  82.142860\n",
       "1111  2012-06-28  81.667145\n",
       "1112  2012-06-29  82.571426"
      ]
     },
     "execution_count": 13,
     "metadata": {},
     "output_type": "execute_result"
    }
   ],
   "source": [
    "testing_set = df[train_index:]\n",
    "testing_set = pd.DataFrame(testing_set)\n",
    "testing_set.head()"
   ]
  },
  {
   "cell_type": "code",
   "execution_count": 14,
   "metadata": {},
   "outputs": [],
   "source": [
    "real_stock_price = pd.DataFrame(testing_set['Open']).reset_index(drop=True)"
   ]
  },
  {
   "cell_type": "code",
   "execution_count": 15,
   "metadata": {},
   "outputs": [],
   "source": [
    "test_set=testing_set['Open']\n",
    "test_set=pd.DataFrame(test_set)"
   ]
  },
  {
   "cell_type": "code",
   "execution_count": 16,
   "metadata": {},
   "outputs": [],
   "source": [
    "inputs = df['Open'][len(df) - len(testing_set) - 60:].values\n",
    "# print(inputs)\n",
    "inputs = inputs.reshape(-1,1)\n",
    "# print(inputs)\n",
    "inputs = sc.transform(inputs)\n",
    "# print(inputs)\n",
    "X_test = []\n",
    "for i in range(60, 60+(total-train_index)):\n",
    "    X_test.append(inputs[i-60:i, 0])\n",
    "X_test = np.array(X_test)\n",
    "X_test = np.reshape(X_test, (X_test.shape[0], X_test.shape[1], 1))\n",
    "predicted_stock_price = model.predict(X_test)\n",
    "predicted_stock_price = sc.inverse_transform(predicted_stock_price)"
   ]
  },
  {
   "cell_type": "code",
   "execution_count": null,
   "metadata": {},
   "outputs": [],
   "source": []
  },
  {
   "cell_type": "code",
   "execution_count": 17,
   "metadata": {},
   "outputs": [],
   "source": [
    "predicted_stock_price=pd.DataFrame(predicted_stock_price)\n",
    "predicted_stock_price_old = predicted_stock_price"
   ]
  },
  {
   "cell_type": "markdown",
   "metadata": {},
   "source": [
    "## Plotting predicted vs actual"
   ]
  },
  {
   "cell_type": "code",
   "execution_count": 18,
   "metadata": {},
   "outputs": [
    {
     "data": {
      "image/png": "[encoded data removed]",
      "text/plain": [
       "<matplotlib.figure.Figure at 0x7fb4e8359dd8>"
      ]
     },
     "metadata": {},
     "output_type": "display_data"
    }
   ],
   "source": [
    "plt.rcParams['figure.figsize'] = [12, 10]\n",
    "plt.plot(real_stock_price, color = 'red', label = 'Real Apple Stock Price')\n",
    "plt.plot(predicted_stock_price_old, color = 'green', label = 'Predicted Apple Stock Price')\n",
    "plt.title('Apple Stock Price Prediction')\n",
    "plt.xlabel('Time')\n",
    "plt.ylabel('Apple Stock Price')\n",
    "plt.legend()\n",
    "plt.show()"
   ]
  },
  {
   "cell_type": "code",
   "execution_count": null,
   "metadata": {},
   "outputs": [],
   "source": []
  },
  {
   "cell_type": "markdown",
   "metadata": {},
   "source": [
    "# Using sentiment from news articles and twitter"
   ]
  },
  {
   "cell_type": "code",
   "execution_count": 19,
   "metadata": {},
   "outputs": [],
   "source": [
    "import pickle\n",
    "from sklearn.feature_extraction.text import TfidfTransformer, TfidfVectorizer\n",
    "from sklearn.metrics import mean_squared_error"
   ]
  },
  {
   "cell_type": "markdown",
   "metadata": {},
   "source": [
    "## Get the cleaned datasets"
   ]
  },
  {
   "cell_type": "code",
   "execution_count": 20,
   "metadata": {},
   "outputs": [],
   "source": [
    "final_news = pd.read_csv('./datasets/news_clean.csv')\n",
    "final_tweets = pd.read_csv('./datasets/tweets_clean.csv')\n"
   ]
  },
  {
   "cell_type": "markdown",
   "metadata": {},
   "source": [
    "## Load the stock prices + logistic regression sentiment score"
   ]
  },
  {
   "cell_type": "code",
   "execution_count": 21,
   "metadata": {},
   "outputs": [],
   "source": [
    "df_lstm = pd.read_csv('./datasets/AAPL_regression.csv')"
   ]
  },
  {
   "cell_type": "markdown",
   "metadata": {},
   "source": [
    "## Add the sentiment values as new columns"
   ]
  },
  {
   "cell_type": "code",
   "execution_count": 22,
   "metadata": {},
   "outputs": [
    {
     "data": {
      "text/plain": [
       "array([[0.03701003, 0.82142857],\n",
       "       [0.03568848, 0.14285714],\n",
       "       [0.03322765, 0.92857143],\n",
       "       ...,\n",
       "       [0.69226012, 0.60714286],\n",
       "       [0.70529339, 0.89795918],\n",
       "       [0.70916693, 0.92857143]])"
      ]
     },
     "execution_count": 22,
     "metadata": {},
     "output_type": "execute_result"
    }
   ],
   "source": [
    "from sklearn.preprocessing import MinMaxScaler\n",
    "sc = MinMaxScaler(feature_range = (0, 1))\n",
    "\n",
    "dataset = pd.DataFrame(df['Open'])\n",
    "dataset['Avg'] = df_lstm['Avg']\n",
    "\n",
    "dataset_scaled = sc.fit_transform(dataset)\n",
    "\n",
    "dataset_scaled"
   ]
  },
  {
   "cell_type": "markdown",
   "metadata": {},
   "source": [
    "## Split into training and testing"
   ]
  },
  {
   "cell_type": "code",
   "execution_count": 23,
   "metadata": {},
   "outputs": [],
   "source": [
    "training = split\n",
    "total = dataset_scaled.shape[0]\n",
    "train_index = int(total*training)\n"
   ]
  },
  {
   "cell_type": "markdown",
   "metadata": {},
   "source": [
    "## Taking time window as 60 days"
   ]
  },
  {
   "cell_type": "code",
   "execution_count": 24,
   "metadata": {},
   "outputs": [],
   "source": [
    "X = []\n",
    "y = []\n",
    "for i in range(60, total):\n",
    "    X.append(dataset_scaled[i-60:i])\n",
    "    y.append(dataset_scaled[i])\n",
    "X, y = np.array(X), np.array(y)\n"
   ]
  },
  {
   "cell_type": "code",
   "execution_count": 25,
   "metadata": {},
   "outputs": [],
   "source": [
    "X_train = X[:train_index]\n",
    "y_train = y[:train_index]\n",
    "X_test = X[train_index:]\n",
    "# X_test.shape"
   ]
  },
  {
   "cell_type": "markdown",
   "metadata": {},
   "source": [
    "## LSTM"
   ]
  },
  {
   "cell_type": "code",
   "execution_count": 26,
   "metadata": {},
   "outputs": [],
   "source": [
    "model = Sequential()\n",
    "\n",
    "model.add(LSTM(units = 50, return_sequences = True, input_shape = (X_train.shape[1], 2)))\n",
    "model.add(Dropout(0.2))\n",
    "\n",
    "model.add(LSTM(units = 50, return_sequences = True))\n",
    "model.add(Dropout(0.2))\n",
    "\n",
    "model.add(LSTM(units = 50, return_sequences = True))\n",
    "model.add(Dropout(0.2))\n",
    "\n",
    "model.add(LSTM(units = 50))\n",
    "model.add(Dropout(0.2))\n",
    "\n",
    "model.add(Dense(units = 2))\n",
    "\n",
    "model.compile(optimizer = 'adam', loss = 'mean_squared_error')"
   ]
  },
  {
   "cell_type": "code",
   "execution_count": 27,
   "metadata": {},
   "outputs": [
    {
     "name": "stdout",
     "output_type": "stream",
     "text": [
      "Epoch 1/100\n",
      "1108/1108 [==============================] - 6s 6ms/step - loss: 0.0634\n",
      "Epoch 2/100\n",
      "1108/1108 [==============================] - 4s 3ms/step - loss: 0.0229\n",
      "Epoch 3/100\n",
      "1108/1108 [==============================] - 4s 3ms/step - loss: 0.0189\n",
      "Epoch 4/100\n",
      "1108/1108 [==============================] - 4s 3ms/step - loss: 0.0183\n",
      "Epoch 5/100\n",
      "1108/1108 [==============================] - 4s 3ms/step - loss: 0.0185\n",
      "Epoch 6/100\n",
      "1108/1108 [==============================] - 4s 3ms/step - loss: 0.0171\n",
      "Epoch 7/100\n",
      "1108/1108 [==============================] - 4s 3ms/step - loss: 0.0170\n",
      "Epoch 8/100\n",
      "1108/1108 [==============================] - 4s 3ms/step - loss: 0.0165\n",
      "Epoch 9/100\n",
      "1108/1108 [==============================] - 4s 3ms/step - loss: 0.0171\n",
      "Epoch 10/100\n",
      "1108/1108 [==============================] - 4s 3ms/step - loss: 0.0161\n",
      "Epoch 11/100\n",
      "1108/1108 [==============================] - 4s 3ms/step - loss: 0.0174\n",
      "Epoch 12/100\n",
      "1108/1108 [==============================] - 4s 3ms/step - loss: 0.0169\n",
      "Epoch 13/100\n",
      "1108/1108 [==============================] - 4s 4ms/step - loss: 0.0157\n",
      "Epoch 14/100\n",
      "1108/1108 [==============================] - 4s 3ms/step - loss: 0.0152\n",
      "Epoch 15/100\n",
      "1108/1108 [==============================] - 4s 3ms/step - loss: 0.0153\n",
      "Epoch 16/100\n",
      "1108/1108 [==============================] - 4s 4ms/step - loss: 0.0159\n",
      "Epoch 17/100\n",
      "1108/1108 [==============================] - 4s 3ms/step - loss: 0.0162\n",
      "Epoch 18/100\n",
      "1108/1108 [==============================] - 4s 3ms/step - loss: 0.0150\n",
      "Epoch 19/100\n",
      "1108/1108 [==============================] - 4s 3ms/step - loss: 0.0159\n",
      "Epoch 20/100\n",
      "1108/1108 [==============================] - 4s 3ms/step - loss: 0.0152\n",
      "Epoch 21/100\n",
      "1108/1108 [==============================] - 4s 3ms/step - loss: 0.0154\n",
      "Epoch 22/100\n",
      "1108/1108 [==============================] - 4s 3ms/step - loss: 0.0155\n",
      "Epoch 23/100\n",
      "1108/1108 [==============================] - 4s 3ms/step - loss: 0.0158\n",
      "Epoch 24/100\n",
      "1108/1108 [==============================] - 4s 3ms/step - loss: 0.0150\n",
      "Epoch 25/100\n",
      "1108/1108 [==============================] - 4s 3ms/step - loss: 0.0158\n",
      "Epoch 26/100\n",
      "1108/1108 [==============================] - 4s 3ms/step - loss: 0.0155\n",
      "Epoch 27/100\n",
      "1108/1108 [==============================] - 4s 3ms/step - loss: 0.0151\n",
      "Epoch 28/100\n",
      "1108/1108 [==============================] - 4s 3ms/step - loss: 0.0152\n",
      "Epoch 29/100\n",
      "1108/1108 [==============================] - 4s 3ms/step - loss: 0.0153\n",
      "Epoch 30/100\n",
      "1108/1108 [==============================] - 4s 3ms/step - loss: 0.0149\n",
      "Epoch 31/100\n",
      "1108/1108 [==============================] - 4s 3ms/step - loss: 0.0144\n",
      "Epoch 32/100\n",
      "1108/1108 [==============================] - 4s 3ms/step - loss: 0.0150\n",
      "Epoch 33/100\n",
      "1108/1108 [==============================] - 4s 3ms/step - loss: 0.0147\n",
      "Epoch 34/100\n",
      "1108/1108 [==============================] - 4s 3ms/step - loss: 0.0152\n",
      "Epoch 35/100\n",
      "1108/1108 [==============================] - 4s 3ms/step - loss: 0.0150\n",
      "Epoch 36/100\n",
      "1108/1108 [==============================] - 4s 4ms/step - loss: 0.0146\n",
      "Epoch 37/100\n",
      "1108/1108 [==============================] - 4s 4ms/step - loss: 0.0152\n",
      "Epoch 38/100\n",
      "1108/1108 [==============================] - 4s 3ms/step - loss: 0.0141\n",
      "Epoch 39/100\n",
      "1108/1108 [==============================] - 4s 3ms/step - loss: 0.0152\n",
      "Epoch 40/100\n",
      "1108/1108 [==============================] - 4s 4ms/step - loss: 0.0144\n",
      "Epoch 41/100\n",
      "1108/1108 [==============================] - 4s 4ms/step - loss: 0.0151\n",
      "Epoch 42/100\n",
      "1108/1108 [==============================] - 4s 3ms/step - loss: 0.0142\n",
      "Epoch 43/100\n",
      "1108/1108 [==============================] - 4s 4ms/step - loss: 0.0149\n",
      "Epoch 44/100\n",
      "1108/1108 [==============================] - 4s 4ms/step - loss: 0.0146\n",
      "Epoch 45/100\n",
      "1108/1108 [==============================] - 4s 4ms/step - loss: 0.0145\n",
      "Epoch 46/100\n",
      "1108/1108 [==============================] - 4s 4ms/step - loss: 0.0142\n",
      "Epoch 47/100\n",
      "1108/1108 [==============================] - 4s 4ms/step - loss: 0.0148\n",
      "Epoch 48/100\n",
      "1108/1108 [==============================] - 4s 4ms/step - loss: 0.0144\n",
      "Epoch 49/100\n",
      "1108/1108 [==============================] - 4s 4ms/step - loss: 0.0147\n",
      "Epoch 50/100\n",
      "1108/1108 [==============================] - 4s 4ms/step - loss: 0.0146\n",
      "Epoch 51/100\n",
      "1108/1108 [==============================] - 4s 4ms/step - loss: 0.0143\n",
      "Epoch 52/100\n",
      "1108/1108 [==============================] - 4s 4ms/step - loss: 0.0144\n",
      "Epoch 53/100\n",
      "1108/1108 [==============================] - 4s 4ms/step - loss: 0.0147\n",
      "Epoch 54/100\n",
      "1108/1108 [==============================] - 4s 4ms/step - loss: 0.0143\n",
      "Epoch 55/100\n",
      "1108/1108 [==============================] - 4s 4ms/step - loss: 0.0143\n",
      "Epoch 56/100\n",
      "1108/1108 [==============================] - 4s 4ms/step - loss: 0.0141\n",
      "Epoch 57/100\n",
      "1108/1108 [==============================] - 4s 4ms/step - loss: 0.0142\n",
      "Epoch 58/100\n",
      "1108/1108 [==============================] - 4s 4ms/step - loss: 0.0142\n",
      "Epoch 59/100\n",
      "1108/1108 [==============================] - 4s 4ms/step - loss: 0.0142\n",
      "Epoch 60/100\n",
      "1108/1108 [==============================] - 4s 4ms/step - loss: 0.0142\n",
      "Epoch 61/100\n",
      "1108/1108 [==============================] - 4s 4ms/step - loss: 0.0139\n",
      "Epoch 62/100\n",
      "1108/1108 [==============================] - 4s 4ms/step - loss: 0.0141\n",
      "Epoch 63/100\n",
      "1108/1108 [==============================] - 4s 4ms/step - loss: 0.0140\n",
      "Epoch 64/100\n",
      "1108/1108 [==============================] - 4s 4ms/step - loss: 0.0145\n",
      "Epoch 65/100\n",
      "1108/1108 [==============================] - 4s 4ms/step - loss: 0.0141\n",
      "Epoch 66/100\n",
      "1108/1108 [==============================] - 4s 4ms/step - loss: 0.0143\n",
      "Epoch 67/100\n",
      "1108/1108 [==============================] - 4s 4ms/step - loss: 0.0149\n",
      "Epoch 68/100\n",
      "1108/1108 [==============================] - 4s 4ms/step - loss: 0.0141\n",
      "Epoch 69/100\n",
      "1108/1108 [==============================] - 4s 4ms/step - loss: 0.0140\n",
      "Epoch 70/100\n",
      "1108/1108 [==============================] - 4s 4ms/step - loss: 0.0136\n",
      "Epoch 71/100\n",
      "1108/1108 [==============================] - 4s 4ms/step - loss: 0.0139\n",
      "Epoch 72/100\n",
      "1108/1108 [==============================] - 4s 4ms/step - loss: 0.0146\n",
      "Epoch 73/100\n",
      "1108/1108 [==============================] - 4s 4ms/step - loss: 0.0140\n",
      "Epoch 74/100\n",
      "1108/1108 [==============================] - 4s 4ms/step - loss: 0.0141\n",
      "Epoch 75/100\n",
      "1108/1108 [==============================] - 4s 4ms/step - loss: 0.0142\n",
      "Epoch 76/100\n",
      "1108/1108 [==============================] - 4s 4ms/step - loss: 0.0141\n",
      "Epoch 77/100\n",
      "1108/1108 [==============================] - 4s 4ms/step - loss: 0.0141\n",
      "Epoch 78/100\n",
      "1108/1108 [==============================] - 4s 4ms/step - loss: 0.0137\n",
      "Epoch 79/100\n",
      "1108/1108 [==============================] - 4s 4ms/step - loss: 0.0148\n",
      "Epoch 80/100\n",
      "1108/1108 [==============================] - 4s 4ms/step - loss: 0.0139\n",
      "Epoch 81/100\n",
      "1108/1108 [==============================] - 4s 4ms/step - loss: 0.0140\n",
      "Epoch 82/100\n",
      "1108/1108 [==============================] - 4s 4ms/step - loss: 0.0138\n",
      "Epoch 83/100\n",
      "1108/1108 [==============================] - 4s 4ms/step - loss: 0.0136\n",
      "Epoch 84/100\n",
      "1108/1108 [==============================] - 4s 4ms/step - loss: 0.0142\n",
      "Epoch 85/100\n",
      "1108/1108 [==============================] - 4s 4ms/step - loss: 0.0140\n",
      "Epoch 86/100\n",
      "1108/1108 [==============================] - 4s 4ms/step - loss: 0.0138\n",
      "Epoch 87/100\n",
      "1108/1108 [==============================] - 4s 4ms/step - loss: 0.0143\n",
      "Epoch 88/100\n",
      "1108/1108 [==============================] - 4s 4ms/step - loss: 0.0141\n",
      "Epoch 89/100\n",
      "1108/1108 [==============================] - 4s 4ms/step - loss: 0.0141\n",
      "Epoch 90/100\n",
      "1108/1108 [==============================] - 5s 4ms/step - loss: 0.0137\n",
      "Epoch 91/100\n",
      "1108/1108 [==============================] - 4s 4ms/step - loss: 0.0139\n",
      "Epoch 92/100\n",
      "1108/1108 [==============================] - 4s 4ms/step - loss: 0.0139\n",
      "Epoch 93/100\n",
      "1108/1108 [==============================] - 4s 4ms/step - loss: 0.0138\n",
      "Epoch 94/100\n",
      "1108/1108 [==============================] - 4s 4ms/step - loss: 0.0140\n",
      "Epoch 95/100\n",
      "1108/1108 [==============================] - 4s 4ms/step - loss: 0.0135\n",
      "Epoch 96/100\n",
      "1108/1108 [==============================] - 4s 4ms/step - loss: 0.0142\n",
      "Epoch 97/100\n"
     ]
    },
    {
     "name": "stdout",
     "output_type": "stream",
     "text": [
      "1108/1108 [==============================] - 4s 3ms/step - loss: 0.0136\n",
      "Epoch 98/100\n",
      "1108/1108 [==============================] - 4s 3ms/step - loss: 0.0136\n",
      "Epoch 99/100\n",
      "1108/1108 [==============================] - 4s 3ms/step - loss: 0.0136\n",
      "Epoch 100/100\n",
      "1108/1108 [==============================] - 4s 3ms/step - loss: 0.0134\n"
     ]
    },
    {
     "data": {
      "text/plain": [
       "<keras.callbacks.History at 0x7fb4e802ef98>"
      ]
     },
     "execution_count": 27,
     "metadata": {},
     "output_type": "execute_result"
    }
   ],
   "source": [
    "model.fit(X_train, y_train, epochs = num_epochs, batch_size = batch_size)"
   ]
  },
  {
   "cell_type": "code",
   "execution_count": 28,
   "metadata": {},
   "outputs": [
    {
     "data": {
      "text/html": [
       "<div>\n",
       "<style scoped>\n",
       "    .dataframe tbody tr th:only-of-type {\n",
       "        vertical-align: middle;\n",
       "    }\n",
       "\n",
       "    .dataframe tbody tr th {\n",
       "        vertical-align: top;\n",
       "    }\n",
       "\n",
       "    .dataframe thead th {\n",
       "        text-align: right;\n",
       "    }\n",
       "</style>\n",
       "<table border=\"1\" class=\"dataframe\">\n",
       "  <thead>\n",
       "    <tr style=\"text-align: right;\">\n",
       "      <th></th>\n",
       "      <th>Date</th>\n",
       "      <th>Open</th>\n",
       "    </tr>\n",
       "  </thead>\n",
       "  <tbody>\n",
       "    <tr>\n",
       "      <th>1108</th>\n",
       "      <td>2012-06-25</td>\n",
       "      <td>82.471428</td>\n",
       "    </tr>\n",
       "    <tr>\n",
       "      <th>1109</th>\n",
       "      <td>2012-06-26</td>\n",
       "      <td>81.618568</td>\n",
       "    </tr>\n",
       "    <tr>\n",
       "      <th>1110</th>\n",
       "      <td>2012-06-27</td>\n",
       "      <td>82.142860</td>\n",
       "    </tr>\n",
       "    <tr>\n",
       "      <th>1111</th>\n",
       "      <td>2012-06-28</td>\n",
       "      <td>81.667145</td>\n",
       "    </tr>\n",
       "    <tr>\n",
       "      <th>1112</th>\n",
       "      <td>2012-06-29</td>\n",
       "      <td>82.571426</td>\n",
       "    </tr>\n",
       "  </tbody>\n",
       "</table>\n",
       "</div>"
      ],
      "text/plain": [
       "            Date       Open\n",
       "1108  2012-06-25  82.471428\n",
       "1109  2012-06-26  81.618568\n",
       "1110  2012-06-27  82.142860\n",
       "1111  2012-06-28  81.667145\n",
       "1112  2012-06-29  82.571426"
      ]
     },
     "execution_count": 28,
     "metadata": {},
     "output_type": "execute_result"
    }
   ],
   "source": [
    "testing_set = df[train_index:]\n",
    "testing_set = pd.DataFrame(testing_set)\n",
    "testing_set.head()"
   ]
  },
  {
   "cell_type": "code",
   "execution_count": null,
   "metadata": {},
   "outputs": [],
   "source": []
  },
  {
   "cell_type": "code",
   "execution_count": 29,
   "metadata": {},
   "outputs": [],
   "source": [
    "real_stock_price = pd.DataFrame(testing_set['Open']).reset_index(drop=True)"
   ]
  },
  {
   "cell_type": "code",
   "execution_count": 30,
   "metadata": {},
   "outputs": [],
   "source": [
    "predicted_stock_price = model.predict(X_test)\n",
    "predicted_stock_price = sc.inverse_transform(predicted_stock_price)"
   ]
  },
  {
   "cell_type": "code",
   "execution_count": 31,
   "metadata": {},
   "outputs": [],
   "source": [
    "predicted=pd.DataFrame(predicted_stock_price)\n",
    "real_price = real_stock_price[60:].reset_index(drop=True)\n",
    "predicted_old = predicted_stock_price_old[60:].reset_index(drop=True)"
   ]
  },
  {
   "cell_type": "markdown",
   "metadata": {},
   "source": [
    "## Plotting predicted with sentimet vs predicted without sentiment vs actual"
   ]
  },
  {
   "cell_type": "code",
   "execution_count": 32,
   "metadata": {},
   "outputs": [
    {
     "data": {
      "image/png": "[encoded data removed]",
      "text/plain": [
       "<matplotlib.figure.Figure at 0x7fb49ed4c668>"
      ]
     },
     "metadata": {},
     "output_type": "display_data"
    }
   ],
   "source": [
    "plt.rcParams['figure.figsize'] = [12, 10]\n",
    "plt.plot(real_price, color = 'red', label = 'Real Stock Price')\n",
    "plt.plot(predicted_old, color = 'green', label = 'Predicted without Sentiment score')\n",
    "plt.plot(predicted[0], color = 'blue', label = 'Predicted with Sentiment score')\n",
    "plt.title('Apple Stock Price Prediction')\n",
    "plt.xlabel('Time')\n",
    "plt.ylabel('Apple Stock Price')\n",
    "plt.legend()\n",
    "plt.show()"
   ]
  },
  {
   "cell_type": "code",
   "execution_count": 33,
   "metadata": {},
   "outputs": [
    {
     "name": "stdout",
     "output_type": "stream",
     "text": [
      "MSE of prediction with sentiment score:  185.4433103179256\n",
      "MSE of prediction without sentiment score:  791.2428374815804\n"
     ]
    }
   ],
   "source": [
    "print(\"MSE of prediction with sentiment score: \", mean_squared_error(real_price, predicted[0]))\n",
    "print(\"MSE of prediction without sentiment score: \", mean_squared_error(real_price, predicted_old))    "
   ]
  },
  {
   "cell_type": "markdown",
   "metadata": {},
   "source": [
    "# Observation\n",
    "\n",
    "We can see that the Mean Squared error for predicted stock prices are better when we use stock prices along with sentiment scores, which proves the "
   ]
  },
  {
   "cell_type": "code",
   "execution_count": null,
   "metadata": {},
   "outputs": [],
   "source": []
  }
 ],
 "metadata": {
  "kernelspec": {
   "display_name": "Python 3",
   "language": "python",
   "name": "python3"
  },
  "language_info": {
   "codemirror_mode": {
    "name": "ipython",
    "version": 3
   },
   "file_extension": ".py",
   "mimetype": "text/x-python",
   "name": "python",
   "nbconvert_exporter": "python",
   "pygments_lexer": "ipython3",
   "version": "3.6.4"
  }
 },
 "nbformat": 4,
 "nbformat_minor": 2
}
