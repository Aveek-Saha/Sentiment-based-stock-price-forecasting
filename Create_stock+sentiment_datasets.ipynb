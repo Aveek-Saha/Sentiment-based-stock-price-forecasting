{
 "cells": [
  {
   "cell_type": "code",
   "execution_count": 1,
   "metadata": {},
   "outputs": [],
   "source": [
    "import csv\n",
    "import pandas as pd\n",
    "import numpy as np\n",
    "import matplotlib.pyplot as plt\n",
    "\n",
    "import pickle\n",
    "from joblib import dump, load\n",
    "from sklearn.feature_extraction.text import TfidfTransformer, TfidfVectorizer\n",
    "import warnings\n",
    "warnings.filterwarnings('ignore')\n"
   ]
  },
  {
   "cell_type": "markdown",
   "metadata": {},
   "source": [
    "### Load datasets for Apple stock prices, News aricles and tweets about Apple"
   ]
  },
  {
   "cell_type": "code",
   "execution_count": 2,
   "metadata": {},
   "outputs": [],
   "source": [
    "df = pd.read_csv('./datasets/AAPL.csv')\n",
    "final_news = pd.read_csv('./datasets/news_clean.csv')\n",
    "final_tweets = pd.read_csv('./datasets/tweets_clean.csv')"
   ]
  },
  {
   "cell_type": "markdown",
   "metadata": {},
   "source": [
    "### Load the saved vectorizer"
   ]
  },
  {
   "cell_type": "code",
   "execution_count": null,
   "metadata": {},
   "outputs": [],
   "source": [
    "vectorizer = load('./models/tfidf.xz')"
   ]
  },
  {
   "cell_type": "markdown",
   "metadata": {},
   "source": [
    "### The getSentiment function uses a given model to classify the tweets and news as positive or negative and then returns the avg value of the news and tweets\n",
    "\n",
    "For example if there are 3 news articles and 2/3 are positive, the sentiment score for the news articles for that date becomes 0.6667\n",
    "\n",
    "Similarly if there are 20 tweets and 15 of them are positive, the sentiment score for the tweets for that date becomes 0.75\n",
    "\n",
    "So the average sentiment score for the day is 0.708, which is an average of the sentiment scores for the tweets and news"
   ]
  },
  {
   "cell_type": "code",
   "execution_count": 4,
   "metadata": {},
   "outputs": [],
   "source": [
    "df_sent = pd.DataFrame(df['Date'])\n",
    "df_sent['Open'] = df['Open']\n",
    "def getSentiment():\n",
    "    \n",
    "    pred = []\n",
    "    pred1 = []\n",
    "\n",
    "    for x,y in zip(final_news['News'], final_tweets['Tweets']):\n",
    "        sample = x.split(\"|\")\n",
    "        sample1 = y.split(\"|\")\n",
    "        \n",
    "\n",
    "        test_sent = vectorizer.transform(sample)\n",
    "        test_sent1 = vectorizer.transform(sample1)\n",
    "        \n",
    "        prediction = model.predict(test_sent)\n",
    "        prediction1 = model.predict(test_sent1)\n",
    "\n",
    "        su = 0\n",
    "        for p in prediction:\n",
    "            su += int(p)\n",
    "            \n",
    "        su1 = 0\n",
    "        for p in prediction1:\n",
    "            su1 += int(p)\n",
    "\n",
    "        pred.append(su/len(sample))\n",
    "        pred1.append(su1/len(sample1))\n",
    "    df_sent['News'] = pred\n",
    "    df_sent['Tweets'] = pred1\n",
    "    \n",
    "    df_sent['Avg'] = df_sent[['Tweets', 'News']].mean(axis=1)"
   ]
  },
  {
   "cell_type": "markdown",
   "metadata": {},
   "source": [
    "## Load each model, get the avg sentiment score, and then save the output to a csv file"
   ]
  },
  {
   "cell_type": "markdown",
   "metadata": {},
   "source": [
    "### 1. Linear regression"
   ]
  },
  {
   "cell_type": "code",
   "execution_count": 5,
   "metadata": {},
   "outputs": [],
   "source": [
    "model = pickle.load(open('./models/linear_regression.sav', 'rb'))\n",
    "getSentiment()\n",
    "df_sent.to_csv('./datasets/AAPL_regression.csv', index=False)"
   ]
  },
  {
   "cell_type": "markdown",
   "metadata": {},
   "source": [
    "### 2. SVM"
   ]
  },
  {
   "cell_type": "code",
   "execution_count": 7,
   "metadata": {},
   "outputs": [],
   "source": [
    "model = pickle.load(open('./models/linear_svc.sav', 'rb'))\n",
    "getSentiment()\n",
    "df_sent.to_csv('./datasets/AAPL_svc.csv', index=False)"
   ]
  },
  {
   "cell_type": "markdown",
   "metadata": {},
   "source": [
    "### 3. Naive Bayes"
   ]
  },
  {
   "cell_type": "code",
   "execution_count": 8,
   "metadata": {},
   "outputs": [],
   "source": [
    "model = pickle.load(open('./models/multinomial_NB.sav', 'rb'))\n",
    "getSentiment()\n",
    "df_sent.to_csv('./datasets/AAPL_nb.csv', index=False)"
   ]
  },
  {
   "cell_type": "markdown",
   "metadata": {},
   "source": [
    "### 4. LSTM"
   ]
  },
  {
   "cell_type": "code",
   "execution_count": 9,
   "metadata": {},
   "outputs": [
    {
     "name": "stderr",
     "output_type": "stream",
     "text": [
      "Using TensorFlow backend.\n"
     ]
    }
   ],
   "source": [
    "import keras\n",
    "from keras.preprocessing.text import Tokenizer\n",
    "from keras.preprocessing.sequence import pad_sequences"
   ]
  },
  {
   "cell_type": "code",
   "execution_count": 10,
   "metadata": {},
   "outputs": [
    {
     "data": {
      "text/html": [
       "<div>\n",
       "<style scoped>\n",
       "    .dataframe tbody tr th:only-of-type {\n",
       "        vertical-align: middle;\n",
       "    }\n",
       "\n",
       "    .dataframe tbody tr th {\n",
       "        vertical-align: top;\n",
       "    }\n",
       "\n",
       "    .dataframe thead th {\n",
       "        text-align: right;\n",
       "    }\n",
       "</style>\n",
       "<table border=\"1\" class=\"dataframe\">\n",
       "  <thead>\n",
       "    <tr style=\"text-align: right;\">\n",
       "      <th></th>\n",
       "      <th>sentiment</th>\n",
       "      <th>text</th>\n",
       "    </tr>\n",
       "  </thead>\n",
       "  <tbody>\n",
       "    <tr>\n",
       "      <th>0</th>\n",
       "      <td>0</td>\n",
       "      <td>thats bummer shoulda got david carr third day</td>\n",
       "    </tr>\n",
       "    <tr>\n",
       "      <th>1</th>\n",
       "      <td>0</td>\n",
       "      <td>upset cant update facebook texting might cry r...</td>\n",
       "    </tr>\n",
       "    <tr>\n",
       "      <th>2</th>\n",
       "      <td>0</td>\n",
       "      <td>dived many times ball managed save 50 rest go ...</td>\n",
       "    </tr>\n",
       "    <tr>\n",
       "      <th>3</th>\n",
       "      <td>0</td>\n",
       "      <td>whole body feels itchy like fire</td>\n",
       "    </tr>\n",
       "    <tr>\n",
       "      <th>4</th>\n",
       "      <td>0</td>\n",
       "      <td>behaving im mad cant see</td>\n",
       "    </tr>\n",
       "  </tbody>\n",
       "</table>\n",
       "</div>"
      ],
      "text/plain": [
       "   sentiment                                               text\n",
       "0          0      thats bummer shoulda got david carr third day\n",
       "1          0  upset cant update facebook texting might cry r...\n",
       "2          0  dived many times ball managed save 50 rest go ...\n",
       "3          0                   whole body feels itchy like fire\n",
       "4          0                           behaving im mad cant see"
      ]
     },
     "execution_count": 10,
     "metadata": {},
     "output_type": "execute_result"
    }
   ],
   "source": [
    "df_train = pd.read_csv(\"./datasets/clean_sent_160k_train.csv\",low_memory=False,error_bad_lines=False)\n",
    "df_train.head()"
   ]
  },
  {
   "cell_type": "code",
   "execution_count": 11,
   "metadata": {},
   "outputs": [
    {
     "name": "stdout",
     "output_type": "stream",
     "text": [
      "<class 'pandas.core.frame.DataFrame'>\n",
      "RangeIndex: 1592046 entries, 0 to 1592045\n",
      "Data columns (total 2 columns):\n",
      "sentiment    1592046 non-null int64\n",
      "text         1592046 non-null object\n",
      "dtypes: int64(1), object(1)\n",
      "memory usage: 24.3+ MB\n"
     ]
    }
   ],
   "source": [
    "df_train.dropna(inplace=True)\n",
    "df_train.reset_index(drop=True,inplace=True)\n",
    "df_train.info()"
   ]
  },
  {
   "cell_type": "code",
   "execution_count": 12,
   "metadata": {},
   "outputs": [],
   "source": [
    "tokenizer = Tokenizer(num_words=20000)\n",
    "\n",
    "max_words = 20\n",
    "\n",
    "tokenizer.fit_on_texts(df_train['text'].values)"
   ]
  },
  {
   "cell_type": "markdown",
   "metadata": {},
   "source": [
    "### The input format for LSTM is different from the other models, so it reqires a different getSentiment method"
   ]
  },
  {
   "cell_type": "code",
   "execution_count": 30,
   "metadata": {},
   "outputs": [],
   "source": [
    "def getSentimentLSTM():\n",
    "    \n",
    "    pred = []\n",
    "    pred1 = []\n",
    "\n",
    "    for x,y in zip(final_news['News'], final_tweets['Tweets']):\n",
    "        sample = x.split(\"|\")\n",
    "        sample1 = y.split(\"|\")\n",
    "        \n",
    "        sample = tokenizer.texts_to_sequences(sample)\n",
    "        \n",
    "        sample = pad_sequences(sample, maxlen=20, dtype='int32', value=0)\n",
    "        sentiment = model.predict(sample,batch_size=1,verbose = 2)\n",
    "\n",
    "\n",
    "        sample1 = tokenizer.texts_to_sequences(sample1)\n",
    "        \n",
    "        sample1 = pad_sequences(sample1, maxlen=20, dtype='int32', value=0)\n",
    "        sentiment1 = model.predict(sample1,batch_size=1,verbose = 2)\n",
    "\n",
    "        su = 0\n",
    "        for p in sentiment:\n",
    "            if p > 0.5:\n",
    "                su += 1\n",
    "            \n",
    "        su1 = 0\n",
    "        for p in sentiment1:\n",
    "            if p > 0.5:\n",
    "                su1 += 1\n",
    "\n",
    "        pred.append(su/len(sample))\n",
    "        pred1.append(su1/len(sample1))\n",
    "    df_sent['News'] = pred\n",
    "    df_sent['Tweets'] = pred1\n",
    "    \n",
    "    df_sent['Avg'] = df_sent[['Tweets', 'News']].mean(axis=1)"
   ]
  },
  {
   "cell_type": "code",
   "execution_count": 31,
   "metadata": {},
   "outputs": [
    {
     "data": {
      "text/html": [
       "<div>\n",
       "<style scoped>\n",
       "    .dataframe tbody tr th:only-of-type {\n",
       "        vertical-align: middle;\n",
       "    }\n",
       "\n",
       "    .dataframe tbody tr th {\n",
       "        vertical-align: top;\n",
       "    }\n",
       "\n",
       "    .dataframe thead th {\n",
       "        text-align: right;\n",
       "    }\n",
       "</style>\n",
       "<table border=\"1\" class=\"dataframe\">\n",
       "  <thead>\n",
       "    <tr style=\"text-align: right;\">\n",
       "      <th></th>\n",
       "      <th>Open</th>\n",
       "      <th>News</th>\n",
       "      <th>Tweets</th>\n",
       "      <th>Avg</th>\n",
       "    </tr>\n",
       "  </thead>\n",
       "  <tbody>\n",
       "    <tr>\n",
       "      <th>count</th>\n",
       "      <td>2770.000000</td>\n",
       "      <td>2770.000000</td>\n",
       "      <td>2770.000000</td>\n",
       "      <td>2770.000000</td>\n",
       "    </tr>\n",
       "    <tr>\n",
       "      <th>mean</th>\n",
       "      <td>86.103062</td>\n",
       "      <td>0.400624</td>\n",
       "      <td>0.542588</td>\n",
       "      <td>0.471606</td>\n",
       "    </tr>\n",
       "    <tr>\n",
       "      <th>std</th>\n",
       "      <td>52.221889</td>\n",
       "      <td>0.311516</td>\n",
       "      <td>0.127341</td>\n",
       "      <td>0.167283</td>\n",
       "    </tr>\n",
       "    <tr>\n",
       "      <th>min</th>\n",
       "      <td>11.341429</td>\n",
       "      <td>0.000000</td>\n",
       "      <td>0.000000</td>\n",
       "      <td>0.045455</td>\n",
       "    </tr>\n",
       "    <tr>\n",
       "      <th>25%</th>\n",
       "      <td>43.960716</td>\n",
       "      <td>0.166667</td>\n",
       "      <td>0.450000</td>\n",
       "      <td>0.342857</td>\n",
       "    </tr>\n",
       "    <tr>\n",
       "      <th>50%</th>\n",
       "      <td>80.154999</td>\n",
       "      <td>0.400000</td>\n",
       "      <td>0.550000</td>\n",
       "      <td>0.466667</td>\n",
       "    </tr>\n",
       "    <tr>\n",
       "      <th>75%</th>\n",
       "      <td>116.787500</td>\n",
       "      <td>0.571429</td>\n",
       "      <td>0.623512</td>\n",
       "      <td>0.575000</td>\n",
       "    </tr>\n",
       "    <tr>\n",
       "      <th>max</th>\n",
       "      <td>230.779999</td>\n",
       "      <td>1.000000</td>\n",
       "      <td>0.950000</td>\n",
       "      <td>0.925000</td>\n",
       "    </tr>\n",
       "  </tbody>\n",
       "</table>\n",
       "</div>"
      ],
      "text/plain": [
       "              Open         News       Tweets          Avg\n",
       "count  2770.000000  2770.000000  2770.000000  2770.000000\n",
       "mean     86.103062     0.400624     0.542588     0.471606\n",
       "std      52.221889     0.311516     0.127341     0.167283\n",
       "min      11.341429     0.000000     0.000000     0.045455\n",
       "25%      43.960716     0.166667     0.450000     0.342857\n",
       "50%      80.154999     0.400000     0.550000     0.466667\n",
       "75%     116.787500     0.571429     0.623512     0.575000\n",
       "max     230.779999     1.000000     0.950000     0.925000"
      ]
     },
     "execution_count": 31,
     "metadata": {},
     "output_type": "execute_result"
    }
   ],
   "source": [
    "model = pickle.load(open('./models/LSTM.sav', 'rb'))\n",
    "getSentimentLSTM()\n",
    "df_sent.to_csv('./datasets/AAPL_LSTM.csv', index=False)\n",
    "# df_sent.describe()"
   ]
  },
  {
   "cell_type": "code",
   "execution_count": 33,
   "metadata": {},
   "outputs": [
    {
     "data": {
      "text/html": [
       "<div>\n",
       "<style scoped>\n",
       "    .dataframe tbody tr th:only-of-type {\n",
       "        vertical-align: middle;\n",
       "    }\n",
       "\n",
       "    .dataframe tbody tr th {\n",
       "        vertical-align: top;\n",
       "    }\n",
       "\n",
       "    .dataframe thead th {\n",
       "        text-align: right;\n",
       "    }\n",
       "</style>\n",
       "<table border=\"1\" class=\"dataframe\">\n",
       "  <thead>\n",
       "    <tr style=\"text-align: right;\">\n",
       "      <th></th>\n",
       "      <th>Date</th>\n",
       "      <th>Open</th>\n",
       "      <th>News</th>\n",
       "      <th>Tweets</th>\n",
       "      <th>Avg</th>\n",
       "    </tr>\n",
       "  </thead>\n",
       "  <tbody>\n",
       "    <tr>\n",
       "      <th>0</th>\n",
       "      <td>2008-02-01</td>\n",
       "      <td>19.462856</td>\n",
       "      <td>0.333333</td>\n",
       "      <td>0.65</td>\n",
       "      <td>0.491667</td>\n",
       "    </tr>\n",
       "    <tr>\n",
       "      <th>1</th>\n",
       "      <td>2008-02-04</td>\n",
       "      <td>19.172857</td>\n",
       "      <td>0.000000</td>\n",
       "      <td>0.25</td>\n",
       "      <td>0.125000</td>\n",
       "    </tr>\n",
       "    <tr>\n",
       "      <th>2</th>\n",
       "      <td>2008-02-05</td>\n",
       "      <td>18.632856</td>\n",
       "      <td>0.000000</td>\n",
       "      <td>0.40</td>\n",
       "      <td>0.200000</td>\n",
       "    </tr>\n",
       "    <tr>\n",
       "      <th>3</th>\n",
       "      <td>2008-02-06</td>\n",
       "      <td>18.690001</td>\n",
       "      <td>0.000000</td>\n",
       "      <td>0.65</td>\n",
       "      <td>0.325000</td>\n",
       "    </tr>\n",
       "    <tr>\n",
       "      <th>4</th>\n",
       "      <td>2008-02-07</td>\n",
       "      <td>17.138571</td>\n",
       "      <td>0.750000</td>\n",
       "      <td>0.50</td>\n",
       "      <td>0.625000</td>\n",
       "    </tr>\n",
       "  </tbody>\n",
       "</table>\n",
       "</div>"
      ],
      "text/plain": [
       "         Date       Open      News  Tweets       Avg\n",
       "0  2008-02-01  19.462856  0.333333    0.65  0.491667\n",
       "1  2008-02-04  19.172857  0.000000    0.25  0.125000\n",
       "2  2008-02-05  18.632856  0.000000    0.40  0.200000\n",
       "3  2008-02-06  18.690001  0.000000    0.65  0.325000\n",
       "4  2008-02-07  17.138571  0.750000    0.50  0.625000"
      ]
     },
     "execution_count": 33,
     "metadata": {},
     "output_type": "execute_result"
    }
   ],
   "source": [
    "df_sent.head()"
   ]
  },
  {
   "cell_type": "code",
   "execution_count": null,
   "metadata": {},
   "outputs": [],
   "source": []
  }
 ],
 "metadata": {
  "kernelspec": {
   "display_name": "Python 3",
   "language": "python",
   "name": "python3"
  },
  "language_info": {
   "codemirror_mode": {
    "name": "ipython",
    "version": 3
   },
   "file_extension": ".py",
   "mimetype": "text/x-python",
   "name": "python",
   "nbconvert_exporter": "python",
   "pygments_lexer": "ipython3",
   "version": "3.6.4"
  }
 },
 "nbformat": 4,
 "nbformat_minor": 2
}
